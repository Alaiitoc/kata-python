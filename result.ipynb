{
 "cells": [
  {
   "cell_type": "code",
   "execution_count": 1,
   "metadata": {},
   "outputs": [],
   "source": [
    "from kata import *"
   ]
  },
  {
   "cell_type": "markdown",
   "metadata": {},
   "source": [
    "# Python Kata for Exalt IT\n",
    "\n",
    "## Q1  \n",
    "\n",
    "- Q1: What is the company with the most active flights in the world ?"
   ]
  },
  {
   "cell_type": "code",
   "execution_count": 2,
   "metadata": {},
   "outputs": [
    {
     "name": "stdout",
     "output_type": "stream",
     "text": [
      "American Airlines : 769 planes\n"
     ]
    }
   ],
   "source": [
    "most_active_airline()"
   ]
  },
  {
   "cell_type": "markdown",
   "metadata": {},
   "source": [
    "## Q2\n",
    "\n",
    "- Q2: By continent, what are the companies with the most regional active flights (airports of Origin & Destination within the same continent) ?"
   ]
  },
  {
   "cell_type": "code",
   "execution_count": 3,
   "metadata": {},
   "outputs": [
    {
     "name": "stdout",
     "output_type": "stream",
     "text": [
      "EUROPE :\n",
      " Ryanair : 284 planes\n",
      "NORTHAMERICA :\n",
      " American Airlines : 709 planes\n",
      "SOUTHAMERICA :\n",
      " LATAM Airlines : 102 planes\n",
      "OCEANIA :\n",
      " AirAsia : 26 planes\n",
      "ASIA :\n",
      " IndiGo : 108 planes\n",
      "AFRICA :\n",
      " Ethiopian Airlines : 36 planes\n",
      "NORTHATLANTIC :\n",
      " Air Greenland : 2 planes\n"
     ]
    }
   ],
   "source": [
    "active_by_continent()"
   ]
  },
  {
   "cell_type": "markdown",
   "metadata": {},
   "source": [
    "## Q3  \n",
    "\n",
    "- Q3: World-wide, Which active flight has the longest route ?"
   ]
  },
  {
   "cell_type": "code",
   "execution_count": 4,
   "metadata": {},
   "outputs": [
    {
     "name": "stdout",
     "output_type": "stream",
     "text": [
      "The flight with the longuest journey started at Zunyi Xinzhou Airport and will end at Zhuhai Jinwan Airport for a journey of 15348.64044117391 km\n"
     ]
    }
   ],
   "source": [
    "longuest_journey()"
   ]
  },
  {
   "cell_type": "markdown",
   "metadata": {},
   "source": [
    "## Q4\n",
    "\n",
    "- Q4: By continent, what is the average route distance ? (flight localization by airport of origin)\n"
   ]
  },
  {
   "cell_type": "code",
   "execution_count": 5,
   "metadata": {},
   "outputs": [
    {
     "name": "stdout",
     "output_type": "stream",
     "text": [
      "The average route distance is :\n",
      "EUROPE :\n",
      " 2739.9898867053535 km\n",
      "NORTHAMERICA :\n",
      " 1994.1108062823537 km\n",
      "SOUTHAMERICA :\n",
      " 1924.8938050181896 km\n",
      "OCEANIA :\n",
      " 4832.956484738445 km\n",
      "ASIA :\n",
      " 3299.9829962441077 km\n",
      "AFRICA :\n",
      " 2617.426849743683 km\n",
      "ATLANTIC :\n",
      " nan km\n",
      "MALDIVES :\n",
      " nan km\n",
      "NORTHATLANTIC :\n",
      " 2911.5807734494897 km\n"
     ]
    }
   ],
   "source": [
    "average_journey()"
   ]
  },
  {
   "cell_type": "markdown",
   "metadata": {},
   "source": [
    "## Q5.1\n",
    "\n",
    "- Q5.1: Which leading airplane manufacturer has the most active flights in the world ?\n"
   ]
  },
  {
   "cell_type": "code",
   "execution_count": 6,
   "metadata": {},
   "outputs": [
    {
     "name": "stdout",
     "output_type": "stream",
     "text": [
      "B738 1478\n"
     ]
    }
   ],
   "source": [
    "leading_manufacturer()"
   ]
  },
  {
   "cell_type": "markdown",
   "metadata": {},
   "source": [
    "## Q5.2\n",
    "\n",
    "- Q5.2: By continent, what is the most frequent airplane model ? (airplane localization by airport of origin)\n"
   ]
  },
  {
   "cell_type": "code",
   "execution_count": 7,
   "metadata": {},
   "outputs": [
    {
     "name": "stdout",
     "output_type": "stream",
     "text": [
      "The average route distance is :\n",
      "EUROPE :\n",
      " B738 674 planes\n",
      "NORTHAMERICA :\n",
      " B738 441 planes\n",
      "SOUTHAMERICA :\n",
      " A320 64 planes\n",
      "OCEANIA :\n",
      " A320 53 planes\n",
      "ASIA :\n",
      " B738 199 planes\n",
      "AFRICA :\n",
      " B738 89 planes\n",
      "NORTHATLANTIC :\n",
      " A20N 4 planes\n"
     ]
    }
   ],
   "source": [
    "continent_manufacturer()"
   ]
  },
  {
   "cell_type": "markdown",
   "metadata": {},
   "source": [
    "## Q6\n",
    "\n",
    "- Q6: By company registration country, what are the tops 3 airplanes model flying ?"
   ]
  },
  {
   "cell_type": "markdown",
   "metadata": {},
   "source": [
    "## Q7.1\n",
    "\n",
    "- Q7.1: By continent, what airport is the most popular destination ?"
   ]
  },
  {
   "cell_type": "code",
   "execution_count": 8,
   "metadata": {},
   "outputs": [
    {
     "name": "stdout",
     "output_type": "stream",
     "text": [
      "EUROPE :\n",
      " To Amsterdam Schiphol Airport : 79 flights\n",
      "NORTHAMERICA :\n",
      " To Dallas Fort Worth International Airport : 138 flights\n",
      "SOUTHAMERICA :\n",
      " To Sao Paulo Guarulhos International Airport : 35 flights\n",
      "OCEANIA :\n",
      " To Singapore Changi Airport : 17 flights\n",
      "ASIA :\n",
      " To Delhi Indira Gandhi International Airport : 58 flights\n",
      "AFRICA :\n",
      " To Addis Ababa Bole Airport : 32 flights\n",
      "NORTHATLANTIC :\n",
      " To Boston Logan International Airport : 2 flights\n"
     ]
    }
   ],
   "source": [
    "popular_destination()"
   ]
  },
  {
   "cell_type": "markdown",
   "metadata": {},
   "source": [
    "## Q7.2\n",
    "\n",
    "- Q7.2: What airport airport has the greatest inbound/outbound flights difference ? (positive or negative)"
   ]
  },
  {
   "cell_type": "code",
   "execution_count": 9,
   "metadata": {},
   "outputs": [
    {
     "name": "stdout",
     "output_type": "stream",
     "text": [
      "Greatest inbound/outbound flights difference at  Zanesville Municipal Airport with a différence of 77\n"
     ]
    }
   ],
   "source": [
    "inbounds()"
   ]
  },
  {
   "cell_type": "markdown",
   "metadata": {},
   "source": [
    "## Q8  \n",
    "\n",
    "- Q8: By continent, what is the average active flight speed ? (flight localization by airport of origin)\n"
   ]
  },
  {
   "cell_type": "code",
   "execution_count": 10,
   "metadata": {},
   "outputs": [
    {
     "name": "stdout",
     "output_type": "stream",
     "text": [
      "EUROPE :\n",
      " Avearage speed 364.73747551077525 km/h\n",
      "NORTHAMERICA :\n",
      " Avearage speed 315.0975609756098 km/h\n",
      "SOUTHAMERICA :\n",
      " Avearage speed 362.8013468013468 km/h\n",
      "OCEANIA :\n",
      " Avearage speed 417.08672086720867 km/h\n",
      "ASIA :\n",
      " Avearage speed 389.49843014128726 km/h\n",
      "AFRICA :\n",
      " Avearage speed 380.92560175054706 km/h\n",
      "ATLANTIC :\n",
      " Avearage speed nan km/h\n",
      "MALDIVES :\n",
      " Avearage speed nan km/h\n",
      "NORTHATLANTIC :\n",
      " Avearage speed 368.9 km/h\n"
     ]
    }
   ],
   "source": [
    "average_speed()"
   ]
  }
 ],
 "metadata": {
  "kernelspec": {
   "display_name": "Python 3.8.10 64-bit",
   "language": "python",
   "name": "python3"
  },
  "language_info": {
   "codemirror_mode": {
    "name": "ipython",
    "version": 3
   },
   "file_extension": ".py",
   "mimetype": "text/x-python",
   "name": "python",
   "nbconvert_exporter": "python",
   "pygments_lexer": "ipython3",
   "version": "3.8.10"
  },
  "orig_nbformat": 4,
  "vscode": {
   "interpreter": {
    "hash": "916dbcbb3f70747c44a77c7bcd40155683ae19c65e1c03b4aa3499c5328201f1"
   }
  }
 },
 "nbformat": 4,
 "nbformat_minor": 2
}
