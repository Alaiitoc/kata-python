{
 "cells": [
  {
   "cell_type": "markdown",
   "metadata": {},
   "source": [
    "## IMPORTS"
   ]
  },
  {
   "cell_type": "code",
   "execution_count": 1,
   "metadata": {},
   "outputs": [],
   "source": [
    "from bs4 import BeautifulSoup\n",
    "import requests\n",
    "import pandas as pd"
   ]
  },
  {
   "cell_type": "markdown",
   "metadata": {},
   "source": [
    "## SCRAPING TABLES"
   ]
  },
  {
   "cell_type": "code",
   "execution_count": 2,
   "metadata": {},
   "outputs": [],
   "source": [
    "URL = 'https://en.wikipedia.org/wiki/List_of_airline_codes'\n",
    "\n",
    "page = requests.get(URL)\n",
    " \n",
    "# scrape webpage\n",
    "soup = BeautifulSoup(page.content, 'html.parser')"
   ]
  },
  {
   "cell_type": "code",
   "execution_count": 3,
   "metadata": {},
   "outputs": [],
   "source": [
    "tables = soup.findAll(\"table\", { \"class\" : \"wikitable\" })\n",
    "table  = str(tables[0])\n",
    "\n",
    "table = table.replace(\"\\n\",'')\n",
    "table = table.replace(\"</tr>\", '')\n",
    "table = table.replace(\"</td>\", '')\n",
    "table = table.replace(\"n/a\", '')\n",
    "\n",
    "\n",
    "data  = [r.split('<td>') for r in table.split(\"<tr>\")][2:]"
   ]
  },
  {
   "cell_type": "code",
   "execution_count": 4,
   "metadata": {},
   "outputs": [],
   "source": [
    "df = pd.DataFrame(data)[[2,3,5,6]]\n",
    "df.rename(columns={2:\"ICAO\",5:\"Country\",3:\"Name\",6:\"Comments\"}, inplace=True)"
   ]
  },
  {
   "cell_type": "code",
   "execution_count": 5,
   "metadata": {},
   "outputs": [
    {
     "data": {
      "text/html": [
       "<div>\n",
       "<style scoped>\n",
       "    .dataframe tbody tr th:only-of-type {\n",
       "        vertical-align: middle;\n",
       "    }\n",
       "\n",
       "    .dataframe tbody tr th {\n",
       "        vertical-align: top;\n",
       "    }\n",
       "\n",
       "    .dataframe thead th {\n",
       "        text-align: right;\n",
       "    }\n",
       "</style>\n",
       "<table border=\"1\" class=\"dataframe\">\n",
       "  <thead>\n",
       "    <tr style=\"text-align: right;\">\n",
       "      <th></th>\n",
       "      <th>ICAO</th>\n",
       "      <th>Name</th>\n",
       "      <th>Country</th>\n",
       "      <th>Comments</th>\n",
       "    </tr>\n",
       "  </thead>\n",
       "  <tbody>\n",
       "    <tr>\n",
       "      <th>0</th>\n",
       "      <td>BOI</td>\n",
       "      <td>&lt;a href=\"/wiki/2GO_(cargo_airline)\" title=\"2GO...</td>\n",
       "      <td>Philippines</td>\n",
       "      <td></td>\n",
       "    </tr>\n",
       "    <tr>\n",
       "      <th>1</th>\n",
       "      <td>EVY</td>\n",
       "      <td>&lt;a href=\"/wiki/No._34_Squadron_RAAF\" title=\"No...</td>\n",
       "      <td></td>\n",
       "      <td>None</td>\n",
       "    </tr>\n",
       "    <tr>\n",
       "      <th>2</th>\n",
       "      <td>GNL</td>\n",
       "      <td>&lt;a class=\"new\" href=\"/w/index.php?title=135_Ai...</td>\n",
       "      <td>United States</td>\n",
       "      <td></td>\n",
       "    </tr>\n",
       "    <tr>\n",
       "      <th>3</th>\n",
       "      <td></td>\n",
       "      <td>Amadeus IT Group S.A.</td>\n",
       "      <td>Global</td>\n",
       "      <td>GDS and airline hosting system (CRS/PSS)</td>\n",
       "    </tr>\n",
       "    <tr>\n",
       "      <th>4</th>\n",
       "      <td></td>\n",
       "      <td>Sabre travel network Asia-Pacific (ex-Abacus)</td>\n",
       "      <td>APAC</td>\n",
       "      <td>Regional distribution</td>\n",
       "    </tr>\n",
       "    <tr>\n",
       "      <th>...</th>\n",
       "      <td>...</td>\n",
       "      <td>...</td>\n",
       "      <td>...</td>\n",
       "      <td>...</td>\n",
       "    </tr>\n",
       "    <tr>\n",
       "      <th>6291</th>\n",
       "      <td>CYN</td>\n",
       "      <td>&lt;a href=\"/wiki/Zhongyuan_Airlines\" title=\"Zhon...</td>\n",
       "      <td>China</td>\n",
       "      <td>ICAO Code and callsign no longer allocated</td>\n",
       "    </tr>\n",
       "    <tr>\n",
       "      <th>6292</th>\n",
       "      <td>WZP</td>\n",
       "      <td>&lt;a href=\"/wiki/Zip_(airline)\" title=\"Zip (airl...</td>\n",
       "      <td>Canada</td>\n",
       "      <td>ICAO Code and callsign no longer allocated</td>\n",
       "    </tr>\n",
       "    <tr>\n",
       "      <th>6293</th>\n",
       "      <td>TZT</td>\n",
       "      <td>&lt;a class=\"mw-redirect\" href=\"/wiki/ZIPAIR_Toky...</td>\n",
       "      <td>Japan</td>\n",
       "      <td>Subsidiary of &lt;a href=\"/wiki/Japan_Airlines\" t...</td>\n",
       "    </tr>\n",
       "    <tr>\n",
       "      <th>6294</th>\n",
       "      <td>OOM</td>\n",
       "      <td>&lt;a href=\"/wiki/Zoom_Airlines\" title=\"Zoom Airl...</td>\n",
       "      <td>Canada</td>\n",
       "      <td>defunct, ICAO Code and callsign no longer allo...</td>\n",
       "    </tr>\n",
       "    <tr>\n",
       "      <th>6295</th>\n",
       "      <td>ORZ</td>\n",
       "      <td>&lt;a class=\"new\" href=\"/w/index.php?title=Zorex&amp;...</td>\n",
       "      <td>Spain</td>\n",
       "      <td>&lt;/tbody&gt;&lt;/table&gt;</td>\n",
       "    </tr>\n",
       "  </tbody>\n",
       "</table>\n",
       "<p>6296 rows × 4 columns</p>\n",
       "</div>"
      ],
      "text/plain": [
       "     ICAO                                               Name        Country  \\\n",
       "0     BOI  <a href=\"/wiki/2GO_(cargo_airline)\" title=\"2GO...    Philippines   \n",
       "1     EVY  <a href=\"/wiki/No._34_Squadron_RAAF\" title=\"No...                  \n",
       "2     GNL  <a class=\"new\" href=\"/w/index.php?title=135_Ai...  United States   \n",
       "3                                      Amadeus IT Group S.A.         Global   \n",
       "4              Sabre travel network Asia-Pacific (ex-Abacus)           APAC   \n",
       "...   ...                                                ...            ...   \n",
       "6291  CYN  <a href=\"/wiki/Zhongyuan_Airlines\" title=\"Zhon...          China   \n",
       "6292  WZP  <a href=\"/wiki/Zip_(airline)\" title=\"Zip (airl...         Canada   \n",
       "6293  TZT  <a class=\"mw-redirect\" href=\"/wiki/ZIPAIR_Toky...          Japan   \n",
       "6294  OOM  <a href=\"/wiki/Zoom_Airlines\" title=\"Zoom Airl...         Canada   \n",
       "6295  ORZ  <a class=\"new\" href=\"/w/index.php?title=Zorex&...          Spain   \n",
       "\n",
       "                                               Comments  \n",
       "0                                                        \n",
       "1                                                  None  \n",
       "2                                                        \n",
       "3              GDS and airline hosting system (CRS/PSS)  \n",
       "4                                 Regional distribution  \n",
       "...                                                 ...  \n",
       "6291         ICAO Code and callsign no longer allocated  \n",
       "6292         ICAO Code and callsign no longer allocated  \n",
       "6293  Subsidiary of <a href=\"/wiki/Japan_Airlines\" t...  \n",
       "6294  defunct, ICAO Code and callsign no longer allo...  \n",
       "6295                                   </tbody></table>  \n",
       "\n",
       "[6296 rows x 4 columns]"
      ]
     },
     "execution_count": 5,
     "metadata": {},
     "output_type": "execute_result"
    }
   ],
   "source": [
    "df"
   ]
  },
  {
   "cell_type": "markdown",
   "metadata": {},
   "source": [
    "## Drop all airlines that doesn't exist anymore"
   ]
  },
  {
   "cell_type": "code",
   "execution_count": 6,
   "metadata": {},
   "outputs": [
    {
     "data": {
      "text/html": [
       "<div>\n",
       "<style scoped>\n",
       "    .dataframe tbody tr th:only-of-type {\n",
       "        vertical-align: middle;\n",
       "    }\n",
       "\n",
       "    .dataframe tbody tr th {\n",
       "        vertical-align: top;\n",
       "    }\n",
       "\n",
       "    .dataframe thead th {\n",
       "        text-align: right;\n",
       "    }\n",
       "</style>\n",
       "<table border=\"1\" class=\"dataframe\">\n",
       "  <thead>\n",
       "    <tr style=\"text-align: right;\">\n",
       "      <th></th>\n",
       "      <th>ICAO</th>\n",
       "      <th>Country</th>\n",
       "      <th>Comments</th>\n",
       "    </tr>\n",
       "  </thead>\n",
       "  <tbody>\n",
       "    <tr>\n",
       "      <th>98</th>\n",
       "      <td>AAC</td>\n",
       "      <td>United Kingdom</td>\n",
       "      <td></td>\n",
       "    </tr>\n",
       "    <tr>\n",
       "      <th>99</th>\n",
       "      <td>AAD</td>\n",
       "      <td>United Kingdom</td>\n",
       "      <td>t/a Ambassador</td>\n",
       "    </tr>\n",
       "    <tr>\n",
       "      <th>100</th>\n",
       "      <td>AAF</td>\n",
       "      <td>France</td>\n",
       "      <td>Former name: &lt;a class=\"mw-redirect\" href=\"/wik...</td>\n",
       "    </tr>\n",
       "    <tr>\n",
       "      <th>101</th>\n",
       "      <td>AAG</td>\n",
       "      <td>United Kingdom</td>\n",
       "      <td>Former name: &lt;a class=\"mw-redirect\" href=\"/wik...</td>\n",
       "    </tr>\n",
       "    <tr>\n",
       "      <th>102</th>\n",
       "      <td>AAH</td>\n",
       "      <td>United States</td>\n",
       "      <td></td>\n",
       "    </tr>\n",
       "    <tr>\n",
       "      <th>...</th>\n",
       "      <td>...</td>\n",
       "      <td>...</td>\n",
       "      <td>...</td>\n",
       "    </tr>\n",
       "    <tr>\n",
       "      <th>5573</th>\n",
       "      <td>ZAW</td>\n",
       "      <td>Bangladesh</td>\n",
       "      <td></td>\n",
       "    </tr>\n",
       "    <tr>\n",
       "      <th>5574</th>\n",
       "      <td>ZBA</td>\n",
       "      <td>Kenya</td>\n",
       "      <td></td>\n",
       "    </tr>\n",
       "    <tr>\n",
       "      <th>5575</th>\n",
       "      <td>ZMA</td>\n",
       "      <td>Zambia</td>\n",
       "      <td></td>\n",
       "    </tr>\n",
       "    <tr>\n",
       "      <th>5576</th>\n",
       "      <td>ZZM</td>\n",
       "      <td>Ivory Coast</td>\n",
       "      <td></td>\n",
       "    </tr>\n",
       "    <tr>\n",
       "      <th>5577</th>\n",
       "      <td>—</td>\n",
       "      <td>United States</td>\n",
       "      <td></td>\n",
       "    </tr>\n",
       "  </tbody>\n",
       "</table>\n",
       "<p>5437 rows × 3 columns</p>\n",
       "</div>"
      ],
      "text/plain": [
       "     ICAO         Country                                           Comments\n",
       "98    AAC  United Kingdom                                                   \n",
       "99    AAD  United Kingdom                                     t/a Ambassador\n",
       "100   AAF          France  Former name: <a class=\"mw-redirect\" href=\"/wik...\n",
       "101   AAG  United Kingdom  Former name: <a class=\"mw-redirect\" href=\"/wik...\n",
       "102   AAH   United States                                                   \n",
       "...   ...             ...                                                ...\n",
       "5573  ZAW      Bangladesh                                                   \n",
       "5574  ZBA           Kenya                                                   \n",
       "5575  ZMA          Zambia                                                   \n",
       "5576  ZZM     Ivory Coast                                                   \n",
       "5577    —   United States                                                   \n",
       "\n",
       "[5437 rows x 3 columns]"
      ]
     },
     "execution_count": 6,
     "metadata": {},
     "output_type": "execute_result"
    }
   ],
   "source": [
    "df1 = df.drop_duplicates(subset=[\"Name\"]).dropna()\n",
    "df1 = df1[[\"ICAO\",\"Country\",\"Comments\"]]\n",
    "\n",
    "to_drop = []\n",
    "to_drop += list(df1[df1[\"Comments\"].str.contains(\"Ceased\")].index)\n",
    "to_drop += list(df1[df1[\"Comments\"].str.contains(\"ceased\")].index)\n",
    "to_drop += list(df1[df1[\"Comments\"].str.contains(\"defunct\")].index)\n",
    "to_drop += list(df1[df1[\"Comments\"].str.contains(\"Defunct\")].index)\n",
    "to_drop += list(df1[df1[\"Comments\"].str.contains(\"no\")].index)\n",
    "to_drop += list(df1[df1[\"Comments\"].str.contains(\"No\")].index)\n",
    "to_drop += list(df1[df1[\"Comments\"].str.contains(\"merged\")].index)\n",
    "to_drop += list(df1[df1[\"Comments\"].str.contains(\"Merged\")].index)\n",
    "to_drop += list(df1[df1[\"Comments\"].str.contains(\"DEFUNCT\")].index)\n",
    "\n",
    "df1 = df1.drop(to_drop).dropna(subset=[\"ICAO\",\"Country\"]).sort_values(\"ICAO\").reset_index(drop=True).drop(list(range(98)))\n",
    "df1 = df1.drop_duplicates([\"ICAO\",\"Country\"])\n",
    "df1"
   ]
  },
  {
   "cell_type": "markdown",
   "metadata": {},
   "source": [
    "## Fix hyperlinks issues"
   ]
  },
  {
   "cell_type": "code",
   "execution_count": 7,
   "metadata": {},
   "outputs": [
    {
     "data": {
      "text/html": [
       "<div>\n",
       "<style scoped>\n",
       "    .dataframe tbody tr th:only-of-type {\n",
       "        vertical-align: middle;\n",
       "    }\n",
       "\n",
       "    .dataframe tbody tr th {\n",
       "        vertical-align: top;\n",
       "    }\n",
       "\n",
       "    .dataframe thead th {\n",
       "        text-align: right;\n",
       "    }\n",
       "</style>\n",
       "<table border=\"1\" class=\"dataframe\">\n",
       "  <thead>\n",
       "    <tr style=\"text-align: right;\">\n",
       "      <th></th>\n",
       "      <th>ICAO</th>\n",
       "      <th>Country</th>\n",
       "      <th>Comments</th>\n",
       "    </tr>\n",
       "  </thead>\n",
       "  <tbody>\n",
       "    <tr>\n",
       "      <th>1576</th>\n",
       "      <td>FEG</td>\n",
       "      <td>&lt;a href=\"/wiki/Egypt\" title=\"Egypt\"&gt;Egypt&lt;/a&gt;</td>\n",
       "      <td></td>\n",
       "    </tr>\n",
       "    <tr>\n",
       "      <th>2886</th>\n",
       "      <td>MAY</td>\n",
       "      <td>&lt;a href=\"/wiki/Malta\" title=\"Malta\"&gt;Malta&lt;/a&gt;</td>\n",
       "      <td>2019</td>\n",
       "    </tr>\n",
       "    <tr>\n",
       "      <th>3767</th>\n",
       "      <td>PVV&lt;sup class=\"reference\" id=\"cite_ref-24\"&gt;&lt;a ...</td>\n",
       "      <td>&lt;a href=\"/wiki/Moldova\" title=\"Moldova\"&gt;Moldov...</td>\n",
       "      <td></td>\n",
       "    </tr>\n",
       "    <tr>\n",
       "      <th>4904</th>\n",
       "      <td>TWB</td>\n",
       "      <td>&lt;a class=\"mw-redirect\" href=\"/wiki/Republic_of...</td>\n",
       "      <td></td>\n",
       "    </tr>\n",
       "  </tbody>\n",
       "</table>\n",
       "</div>"
      ],
      "text/plain": [
       "                                                   ICAO  \\\n",
       "1576                                                FEG   \n",
       "2886                                                MAY   \n",
       "3767  PVV<sup class=\"reference\" id=\"cite_ref-24\"><a ...   \n",
       "4904                                                TWB   \n",
       "\n",
       "                                                Country Comments  \n",
       "1576      <a href=\"/wiki/Egypt\" title=\"Egypt\">Egypt</a>           \n",
       "2886      <a href=\"/wiki/Malta\" title=\"Malta\">Malta</a>     2019  \n",
       "3767  <a href=\"/wiki/Moldova\" title=\"Moldova\">Moldov...           \n",
       "4904  <a class=\"mw-redirect\" href=\"/wiki/Republic_of...           "
      ]
     },
     "execution_count": 7,
     "metadata": {},
     "output_type": "execute_result"
    }
   ],
   "source": [
    "df1 = df1.reset_index(drop=True)\n",
    "df1[df1[\"Country\"].str.contains(\"<a\")]"
   ]
  },
  {
   "cell_type": "code",
   "execution_count": 8,
   "metadata": {},
   "outputs": [],
   "source": [
    "df1[\"Country\"].iat[3767] = \"Moldova\"\n",
    "df1[\"Country\"].iat[1576] = \"Egypt\"\n",
    "df1[\"Country\"].iat[2886] = \"Malta\"\n",
    "df1[\"Country\"].iat[4904] = \"Republic of Korea\""
   ]
  },
  {
   "cell_type": "code",
   "execution_count": 9,
   "metadata": {},
   "outputs": [
    {
     "data": {
      "text/html": [
       "<div>\n",
       "<style scoped>\n",
       "    .dataframe tbody tr th:only-of-type {\n",
       "        vertical-align: middle;\n",
       "    }\n",
       "\n",
       "    .dataframe tbody tr th {\n",
       "        vertical-align: top;\n",
       "    }\n",
       "\n",
       "    .dataframe thead th {\n",
       "        text-align: right;\n",
       "    }\n",
       "</style>\n",
       "<table border=\"1\" class=\"dataframe\">\n",
       "  <thead>\n",
       "    <tr style=\"text-align: right;\">\n",
       "      <th></th>\n",
       "      <th>ICAO</th>\n",
       "      <th>Country</th>\n",
       "      <th>Comments</th>\n",
       "    </tr>\n",
       "  </thead>\n",
       "  <tbody>\n",
       "    <tr>\n",
       "      <th>3767</th>\n",
       "      <td>PVV&lt;sup class=\"reference\" id=\"cite_ref-24\"&gt;&lt;a ...</td>\n",
       "      <td>Moldova</td>\n",
       "      <td></td>\n",
       "    </tr>\n",
       "  </tbody>\n",
       "</table>\n",
       "</div>"
      ],
      "text/plain": [
       "                                                   ICAO  Country Comments\n",
       "3767  PVV<sup class=\"reference\" id=\"cite_ref-24\"><a ...  Moldova         "
      ]
     },
     "execution_count": 9,
     "metadata": {},
     "output_type": "execute_result"
    }
   ],
   "source": [
    "df1[df1[\"ICAO\"].str.contains(\"<\")]"
   ]
  },
  {
   "cell_type": "code",
   "execution_count": 10,
   "metadata": {},
   "outputs": [],
   "source": [
    "df1[\"ICAO\"].iat[3767] = \"PVV\""
   ]
  },
  {
   "cell_type": "markdown",
   "metadata": {},
   "source": [
    "## FIX COUNTRIES NAMES "
   ]
  },
  {
   "cell_type": "code",
   "execution_count": 11,
   "metadata": {},
   "outputs": [],
   "source": [
    "def correctWiki(df,nameWiki,nameCountry):\n",
    "    L_country = list(df[df[\"Country\"].str.contains(nameWiki, case=False)].index)\n",
    "    for l in L_country:\n",
    "        df[\"Country\"].iloc[l] = nameCountry\n",
    "        "
   ]
  },
  {
   "cell_type": "code",
   "execution_count": 12,
   "metadata": {},
   "outputs": [],
   "source": [
    "# df =  df[df[\"Country\"].str.contains('[A-Z]+', regex=True)]\n",
    "correctWiki(df,\"congo\",\"Congo\")\n",
    "correctWiki(df,\"turks\",\"Turks And Caicos Islands\")\n",
    "correctWiki(df,\"São\",\"Sao Tome And Principe\")\n",
    "correctWiki(df,\"Republic of Korea\",\"South Korea\")\n",
    "correctWiki(df,\"Lao\",\"Laos\")\n",
    "correctWiki(df,\"Trinidad\",\"Trinidad And Tobago\")\n",
    "correctWiki(df,\"Somali\",\"Somalia\")\n",
    "correctWiki(df,\"gambia\",\"Gambia\")\n",
    "correctWiki(df,\"Syria\",\"Syria\")\n",
    "correctWiki(df,\"Syria\",\"Syria\")\n",
    "correctWiki(df,\"Russia\",\"Russia\")\n",
    "correctWiki(df,\"Syria\",\"Syria\")\n",
    "correctWiki(df,\"Myanmar\",\"Myanmar (Burma)\")\n",
    "correctWiki(df,\"Syria\",\"Syria\")\n",
    "correctWiki(df,\"ivory\",\"Cote D'ivoire (Ivory Coast)\")\n",
    "correctWiki(df,\"ivoire\",\"Cote D'ivoire (Ivory Coast)\")\n",
    "correctWiki(df,\"Czech\",\"Czechia\")\n",
    "correctWiki(df,\"Molodva\",\"Moldova\")\n",
    "correctWiki(df,\"Canada\",\"Canada\")\n",
    "correctWiki(df,\"Hong\",\"Hong Kong\")\n",
    "correctWiki(df,\"Netherlands\",\"Netherlands\")\n",
    "correctWiki(df,\"Burma\",\"Myanmar (Burma)\")\n",
    "correctWiki(df,\"Burkino Faso\",\"Burkina Faso\")\n",
    "correctWiki(df,\"Bosnia and Herzegovina\",\"Bosnia And Herzegovina\")\n",
    "correctWiki(df,\"Antigua and Barbuda\",\"Antigua and Barbuda\")\n",
    "correctWiki(df,\"Macedonia\",\"North Macedonia\")\n",
    "df = df.drop([5053])"
   ]
  },
  {
   "cell_type": "markdown",
   "metadata": {},
   "source": [
    "# SAVE"
   ]
  },
  {
   "cell_type": "code",
   "execution_count": 13,
   "metadata": {},
   "outputs": [],
   "source": [
    "df1.to_parquet(\"AirlineCountries.parquet\")"
   ]
  }
 ],
 "metadata": {
  "kernelspec": {
   "display_name": "Python 3.8.10 64-bit",
   "language": "python",
   "name": "python3"
  },
  "language_info": {
   "codemirror_mode": {
    "name": "ipython",
    "version": 3
   },
   "file_extension": ".py",
   "mimetype": "text/x-python",
   "name": "python",
   "nbconvert_exporter": "python",
   "pygments_lexer": "ipython3",
   "version": "3.8.10"
  },
  "orig_nbformat": 4,
  "vscode": {
   "interpreter": {
    "hash": "916dbcbb3f70747c44a77c7bcd40155683ae19c65e1c03b4aa3499c5328201f1"
   }
  }
 },
 "nbformat": 4,
 "nbformat_minor": 2
}
