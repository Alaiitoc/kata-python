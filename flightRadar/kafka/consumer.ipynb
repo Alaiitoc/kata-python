{
 "cells": [
  {
   "cell_type": "code",
   "execution_count": 1,
   "metadata": {},
   "outputs": [],
   "source": [
    "from confluent_kafka import Consumer\n",
    "from time import sleep,time"
   ]
  },
  {
   "cell_type": "code",
   "execution_count": 27,
   "metadata": {},
   "outputs": [],
   "source": [
    "import pandas as pd\n",
    "import io"
   ]
  },
  {
   "cell_type": "code",
   "execution_count": 46,
   "metadata": {},
   "outputs": [],
   "source": [
    "class ExampleConsumer:\n",
    "    broker = \"localhost:9092\"\n",
    "    group_id = \"consumer-1\"\n",
    "\n",
    "    def start_listener(self,topic):\n",
    "        consumer_config = {\n",
    "            'bootstrap.servers': self.broker,\n",
    "            'group.id': self.group_id,\n",
    "            'auto.offset.reset': 'largest',\n",
    "            'enable.auto.commit': 'false',\n",
    "            'max.poll.interval.ms': '86400000'\n",
    "        }\n",
    "\n",
    "        consumer = Consumer(consumer_config)\n",
    "        consumer.subscribe([topic])\n",
    "\n",
    "        try:\n",
    "            while True:\n",
    "                # read single message at a time\n",
    "                msg = consumer.poll(0)\n",
    "                if msg is None:\n",
    "                    print(\"Listening\")\n",
    "                    sleep(2)\n",
    "                    continue\n",
    "                if msg.error():\n",
    "                    print(\"Error reading message : {}\".format(msg.error()))\n",
    "                    continue\n",
    "                # You can parse message and save to data base here\n",
    "                print(time(),pd.read_parquet(io.BytesIO(msg.value())))\n",
    "                with open(\"test.parquet\", 'wb') as file:\n",
    "                    file.write(msg.value())\n",
    "                consumer.commit()\n",
    "\n",
    "        except Exception as ex:\n",
    "            print(\"Kafka Exception : {}\", ex)\n",
    "\n",
    "        finally:\n",
    "            print(\"closing consumer\")\n",
    "            consumer.close()"
   ]
  },
  {
   "cell_type": "code",
   "execution_count": 49,
   "metadata": {},
   "outputs": [
    {
     "name": "stdout",
     "output_type": "stream",
     "text": [
      "Listening\n",
      "Listening\n",
      "Listening\n",
      "1668605969.5678394             id dest_iata org_iata model registration  speed company\n",
      "0     2e3aca80       CVG      QRO  B762       N999YV    509     CSB\n",
      "1     2e3ae4bc       BOH      PFO  B737       G-NEWG     67     BRO\n",
      "2     2e3aa927       KWE      WNZ  B738       B-1556    349     JYH\n",
      "3     2e3ad269       HAK      KWE  B738       B-1552    438     JYH\n",
      "4     2e3a2d8c       CVG      CGN  B763       N226CY    431     ABX\n",
      "...        ...       ...      ...   ...          ...    ...     ...\n",
      "9195  2e3a6a52       HGH      SIN  B752       B-221J    436     HYT\n",
      "9196  2e3a88f4       OVB      SVO  B763       B-221H    461     HYT\n",
      "9197  2e3aebd5       THR      AWZ  A320       EP-ZAV    289     IZG\n",
      "9201  2e3a0c2d       SIN      NRT  B788       JA825J    492     TZP\n",
      "9202  2e3a54f5       BKK      NRT  B788       JA822J    481     TZP\n",
      "\n",
      "[8641 rows x 7 columns]\n",
      "Listening\n",
      "Listening\n",
      "Listening\n",
      "Listening\n",
      "Listening\n",
      "closing consumer\n"
     ]
    },
    {
     "ename": "KeyboardInterrupt",
     "evalue": "",
     "output_type": "error",
     "traceback": [
      "\u001b[0;31m---------------------------------------------------------------------------\u001b[0m",
      "\u001b[0;31mKeyboardInterrupt\u001b[0m                         Traceback (most recent call last)",
      "\u001b[0;32m<ipython-input-49-460aa0e15435>\u001b[0m in \u001b[0;36m<module>\u001b[0;34m\u001b[0m\n\u001b[1;32m      1\u001b[0m \u001b[0;31m#RUNNING CONSUMER FOR READING MESSAGE FROM THE KAFKA TOPIC\u001b[0m\u001b[0;34m\u001b[0m\u001b[0;34m\u001b[0m\u001b[0;34m\u001b[0m\u001b[0m\n\u001b[1;32m      2\u001b[0m \u001b[0mmy_consumer\u001b[0m \u001b[0;34m=\u001b[0m \u001b[0mExampleConsumer\u001b[0m\u001b[0;34m(\u001b[0m\u001b[0;34m)\u001b[0m\u001b[0;34m\u001b[0m\u001b[0;34m\u001b[0m\u001b[0m\n\u001b[0;32m----> 3\u001b[0;31m \u001b[0mmy_consumer\u001b[0m\u001b[0;34m.\u001b[0m\u001b[0mstart_listener\u001b[0m\u001b[0;34m(\u001b[0m\u001b[0;34m\"test-topic\"\u001b[0m\u001b[0;34m)\u001b[0m\u001b[0;34m\u001b[0m\u001b[0;34m\u001b[0m\u001b[0m\n\u001b[0m",
      "\u001b[0;32m<ipython-input-46-d753cefabd30>\u001b[0m in \u001b[0;36mstart_listener\u001b[0;34m(self, topic)\u001b[0m\n\u001b[1;32m     21\u001b[0m                 \u001b[0;32mif\u001b[0m \u001b[0mmsg\u001b[0m \u001b[0;32mis\u001b[0m \u001b[0;32mNone\u001b[0m\u001b[0;34m:\u001b[0m\u001b[0;34m\u001b[0m\u001b[0;34m\u001b[0m\u001b[0m\n\u001b[1;32m     22\u001b[0m                     \u001b[0mprint\u001b[0m\u001b[0;34m(\u001b[0m\u001b[0;34m\"Listening\"\u001b[0m\u001b[0;34m)\u001b[0m\u001b[0;34m\u001b[0m\u001b[0;34m\u001b[0m\u001b[0m\n\u001b[0;32m---> 23\u001b[0;31m                     \u001b[0msleep\u001b[0m\u001b[0;34m(\u001b[0m\u001b[0;36m2\u001b[0m\u001b[0;34m)\u001b[0m\u001b[0;34m\u001b[0m\u001b[0;34m\u001b[0m\u001b[0m\n\u001b[0m\u001b[1;32m     24\u001b[0m                     \u001b[0;32mcontinue\u001b[0m\u001b[0;34m\u001b[0m\u001b[0;34m\u001b[0m\u001b[0m\n\u001b[1;32m     25\u001b[0m                 \u001b[0;32mif\u001b[0m \u001b[0mmsg\u001b[0m\u001b[0;34m.\u001b[0m\u001b[0merror\u001b[0m\u001b[0;34m(\u001b[0m\u001b[0;34m)\u001b[0m\u001b[0;34m:\u001b[0m\u001b[0;34m\u001b[0m\u001b[0;34m\u001b[0m\u001b[0m\n",
      "\u001b[0;31mKeyboardInterrupt\u001b[0m: "
     ]
    }
   ],
   "source": [
    "#RUNNING CONSUMER FOR READING MESSAGE FROM THE KAFKA TOPIC\n",
    "my_consumer = ExampleConsumer()\n",
    "my_consumer.start_listener(\"test-topic\")"
   ]
  },
  {
   "cell_type": "code",
   "execution_count": 50,
   "metadata": {},
   "outputs": [
    {
     "name": "stdout",
     "output_type": "stream",
     "text": [
      "Listening\n",
      "Listening\n",
      "Listening\n",
      "1668606379.4850245             id dest_iata org_iata model registration  speed company\n",
      "0     2e3aca80       CVG      QRO  B762       N999YV    502     CSB\n",
      "1     2e3ae4bc       BOH      PFO  B737       G-NEWG    277     BRO\n",
      "2     2e3aa927       KWE      WNZ  B738       B-1556    261     JYH\n",
      "3     2e3ad269       HAK      KWE  B738       B-1552    451     JYH\n",
      "4     2e3a2d8c       CVG      CGN  B763       N226CY    436     ABX\n",
      "...        ...       ...      ...   ...          ...    ...     ...\n",
      "9196  2e3ae2f7       KTM      BWA  AT75       9N-ANC    135     NYT\n",
      "9197  2e3a88f4       OVB      SVO  B763       B-221H    443     HYT\n",
      "9198  2e3aebd5       THR      AWZ  A320       EP-ZAV    424     IZG\n",
      "9202  2e3a0c2d       SIN      NRT  B788       JA825J    488     TZP\n",
      "9203  2e3a54f5       BKK      NRT  B788       JA822J    482     TZP\n",
      "\n",
      "[8640 rows x 7 columns]\n",
      "Listening\n",
      "Listening\n",
      "Listening\n",
      "closing consumer\n"
     ]
    },
    {
     "ename": "KeyboardInterrupt",
     "evalue": "",
     "output_type": "error",
     "traceback": [
      "\u001b[0;31m---------------------------------------------------------------------------\u001b[0m",
      "\u001b[0;31mKeyboardInterrupt\u001b[0m                         Traceback (most recent call last)",
      "\u001b[0;32m<ipython-input-50-3ace55d1996b>\u001b[0m in \u001b[0;36m<module>\u001b[0;34m\u001b[0m\n\u001b[0;32m----> 1\u001b[0;31m \u001b[0mmy_consumer\u001b[0m\u001b[0;34m.\u001b[0m\u001b[0mstart_listener\u001b[0m\u001b[0;34m(\u001b[0m\u001b[0;34m\"live_topic\"\u001b[0m\u001b[0;34m)\u001b[0m\u001b[0;34m\u001b[0m\u001b[0;34m\u001b[0m\u001b[0m\n\u001b[0m",
      "\u001b[0;32m<ipython-input-46-d753cefabd30>\u001b[0m in \u001b[0;36mstart_listener\u001b[0;34m(self, topic)\u001b[0m\n\u001b[1;32m     21\u001b[0m                 \u001b[0;32mif\u001b[0m \u001b[0mmsg\u001b[0m \u001b[0;32mis\u001b[0m \u001b[0;32mNone\u001b[0m\u001b[0;34m:\u001b[0m\u001b[0;34m\u001b[0m\u001b[0;34m\u001b[0m\u001b[0m\n\u001b[1;32m     22\u001b[0m                     \u001b[0mprint\u001b[0m\u001b[0;34m(\u001b[0m\u001b[0;34m\"Listening\"\u001b[0m\u001b[0;34m)\u001b[0m\u001b[0;34m\u001b[0m\u001b[0;34m\u001b[0m\u001b[0m\n\u001b[0;32m---> 23\u001b[0;31m                     \u001b[0msleep\u001b[0m\u001b[0;34m(\u001b[0m\u001b[0;36m2\u001b[0m\u001b[0;34m)\u001b[0m\u001b[0;34m\u001b[0m\u001b[0;34m\u001b[0m\u001b[0m\n\u001b[0m\u001b[1;32m     24\u001b[0m                     \u001b[0;32mcontinue\u001b[0m\u001b[0;34m\u001b[0m\u001b[0;34m\u001b[0m\u001b[0m\n\u001b[1;32m     25\u001b[0m                 \u001b[0;32mif\u001b[0m \u001b[0mmsg\u001b[0m\u001b[0;34m.\u001b[0m\u001b[0merror\u001b[0m\u001b[0;34m(\u001b[0m\u001b[0;34m)\u001b[0m\u001b[0;34m:\u001b[0m\u001b[0;34m\u001b[0m\u001b[0;34m\u001b[0m\u001b[0m\n",
      "\u001b[0;31mKeyboardInterrupt\u001b[0m: "
     ]
    }
   ],
   "source": [
    "my_consumer.start_listener(\"live_topic\")"
   ]
  }
 ],
 "metadata": {
  "kernelspec": {
   "display_name": "Python 3.8.10 64-bit",
   "language": "python",
   "name": "python3"
  },
  "language_info": {
   "codemirror_mode": {
    "name": "ipython",
    "version": 3
   },
   "file_extension": ".py",
   "mimetype": "text/x-python",
   "name": "python",
   "nbconvert_exporter": "python",
   "pygments_lexer": "ipython3",
   "version": "3.8.10"
  },
  "orig_nbformat": 4,
  "vscode": {
   "interpreter": {
    "hash": "916dbcbb3f70747c44a77c7bcd40155683ae19c65e1c03b4aa3499c5328201f1"
   }
  }
 },
 "nbformat": 4,
 "nbformat_minor": 2
}
