{
 "cells": [
  {
   "cell_type": "code",
   "execution_count": 3,
   "metadata": {},
   "outputs": [],
   "source": [
    "from confluent_kafka import Producer"
   ]
  },
  {
   "cell_type": "code",
   "execution_count": 4,
   "metadata": {},
   "outputs": [],
   "source": [
    "class ExampleProducer:\n",
    "    broker = \"localhost:9092\"\n",
    "    producer = None\n",
    "\n",
    "    def __init__(self, topic):\n",
    "        self.producer = Producer({\n",
    "            'bootstrap.servers': self.broker,\n",
    "            'socket.timeout.ms': 100,\n",
    "            'api.version.request': 'false',\n",
    "            'broker.version.fallback': '0.9.0',\n",
    "        }\n",
    "        )\n",
    "        self.topic = topic\n",
    "\n",
    "    def delivery_report(self, err, msg):\n",
    "        \"\"\" Called once for each message produced to indicate delivery result.\n",
    "            Triggered by poll() or flush(). \"\"\"\n",
    "        if err is not None:\n",
    "            print('Message delivery failed: {}'.format(err))\n",
    "        else:\n",
    "            print('Message delivered to {} [{}]'.format(\n",
    "                msg.topic(), msg.partition()))\n",
    "\n",
    "    def send_msg_async(self, msg):\n",
    "        print(\"Send message asynchronously\")\n",
    "        self.producer.produce(\n",
    "            self.topic,\n",
    "            msg,\n",
    "            callback=lambda err, original_msg=msg: self.delivery_report(err, original_msg\n",
    "                                                                        ),\n",
    "        )\n",
    "        self.producer.flush()\n",
    "\n",
    "    def send_msg_sync(self, msg):\n",
    "        print(\"Send message synchronously\")\n",
    "        self.producer.produce(\n",
    "            self.topic,\n",
    "            msg,\n",
    "            callback=lambda err, original_msg=msg: self.delivery_report(\n",
    "                err, original_msg\n",
    "            ),\n",
    "        )\n",
    "        self.producer.flush()\n",
    "\n"
   ]
  },
  {
   "cell_type": "code",
   "execution_count": 3,
   "metadata": {},
   "outputs": [],
   "source": [
    "import pandas as pd\n",
    "from io import BytesIO"
   ]
  },
  {
   "cell_type": "code",
   "execution_count": 4,
   "metadata": {},
   "outputs": [
    {
     "ename": "KeyboardInterrupt",
     "evalue": "",
     "output_type": "error",
     "traceback": [
      "\u001b[0;31m---------------------------------------------------------------------------\u001b[0m",
      "\u001b[0;31mKeyboardInterrupt\u001b[0m                         Traceback (most recent call last)",
      "\u001b[0;32m<ipython-input-4-98e5b52ba27c>\u001b[0m in \u001b[0;36m<module>\u001b[0;34m\u001b[0m\n\u001b[0;32m----> 1\u001b[0;31m \u001b[0;32mfrom\u001b[0m \u001b[0mFlightRadar24\u001b[0m\u001b[0;34m.\u001b[0m\u001b[0mapi\u001b[0m \u001b[0;32mimport\u001b[0m \u001b[0mFlightRadar24API\u001b[0m\u001b[0;34m\u001b[0m\u001b[0;34m\u001b[0m\u001b[0m\n\u001b[0m\u001b[1;32m      2\u001b[0m \u001b[0;32mimport\u001b[0m \u001b[0mpandas\u001b[0m \u001b[0;32mas\u001b[0m \u001b[0mpd\u001b[0m\u001b[0;34m\u001b[0m\u001b[0;34m\u001b[0m\u001b[0m\n\u001b[1;32m      3\u001b[0m \u001b[0;34m\u001b[0m\u001b[0m\n\u001b[1;32m      4\u001b[0m \u001b[0;31m# Get important data on current flights\u001b[0m\u001b[0;34m\u001b[0m\u001b[0;34m\u001b[0m\u001b[0;34m\u001b[0m\u001b[0m\n\u001b[1;32m      5\u001b[0m \u001b[0;34m\u001b[0m\u001b[0m\n",
      "\u001b[0;32m~/.local/lib/python3.8/site-packages/FlightRadar24/api.py\u001b[0m in \u001b[0;36m<module>\u001b[0;34m\u001b[0m\n\u001b[1;32m      3\u001b[0m \u001b[0;32mfrom\u001b[0m \u001b[0;34m.\u001b[0m\u001b[0mcore\u001b[0m \u001b[0;32mimport\u001b[0m \u001b[0mCore\u001b[0m\u001b[0;34m\u001b[0m\u001b[0;34m\u001b[0m\u001b[0m\n\u001b[1;32m      4\u001b[0m \u001b[0;32mfrom\u001b[0m \u001b[0;34m.\u001b[0m\u001b[0mflight\u001b[0m \u001b[0;32mimport\u001b[0m \u001b[0mFlight\u001b[0m\u001b[0;34m\u001b[0m\u001b[0;34m\u001b[0m\u001b[0m\n\u001b[0;32m----> 5\u001b[0;31m \u001b[0;32mfrom\u001b[0m \u001b[0;34m.\u001b[0m\u001b[0mrequest\u001b[0m \u001b[0;32mimport\u001b[0m \u001b[0mAPIRequest\u001b[0m\u001b[0;34m\u001b[0m\u001b[0;34m\u001b[0m\u001b[0m\n\u001b[0m\u001b[1;32m      6\u001b[0m \u001b[0;34m\u001b[0m\u001b[0m\n\u001b[1;32m      7\u001b[0m \u001b[0;32mclass\u001b[0m \u001b[0mFlightRadar24API\u001b[0m\u001b[0;34m(\u001b[0m\u001b[0mobject\u001b[0m\u001b[0;34m)\u001b[0m\u001b[0;34m:\u001b[0m\u001b[0;34m\u001b[0m\u001b[0;34m\u001b[0m\u001b[0m\n",
      "\u001b[0;32m~/.local/lib/python3.8/site-packages/FlightRadar24/request.py\u001b[0m in \u001b[0;36m<module>\u001b[0;34m\u001b[0m\n\u001b[1;32m      4\u001b[0m \u001b[0;32mimport\u001b[0m \u001b[0mjson\u001b[0m\u001b[0;34m\u001b[0m\u001b[0;34m\u001b[0m\u001b[0m\n\u001b[1;32m      5\u001b[0m \u001b[0;32mimport\u001b[0m \u001b[0mgzip\u001b[0m\u001b[0;34m\u001b[0m\u001b[0;34m\u001b[0m\u001b[0m\n\u001b[0;32m----> 6\u001b[0;31m \u001b[0;32mimport\u001b[0m \u001b[0mrequests\u001b[0m\u001b[0;34m\u001b[0m\u001b[0;34m\u001b[0m\u001b[0m\n\u001b[0m\u001b[1;32m      7\u001b[0m \u001b[0;34m\u001b[0m\u001b[0m\n\u001b[1;32m      8\u001b[0m \u001b[0;32mclass\u001b[0m \u001b[0mAPIRequest\u001b[0m\u001b[0;34m(\u001b[0m\u001b[0mobject\u001b[0m\u001b[0;34m)\u001b[0m\u001b[0;34m:\u001b[0m\u001b[0;34m\u001b[0m\u001b[0;34m\u001b[0m\u001b[0m\n",
      "\u001b[0;32m/usr/lib/python3/dist-packages/requests/__init__.py\u001b[0m in \u001b[0;36m<module>\u001b[0;34m\u001b[0m\n\u001b[1;32m     42\u001b[0m \u001b[0;34m\u001b[0m\u001b[0m\n\u001b[1;32m     43\u001b[0m \u001b[0;32mimport\u001b[0m \u001b[0murllib3\u001b[0m\u001b[0;34m\u001b[0m\u001b[0;34m\u001b[0m\u001b[0m\n\u001b[0;32m---> 44\u001b[0;31m \u001b[0;32mimport\u001b[0m \u001b[0mchardet\u001b[0m\u001b[0;34m\u001b[0m\u001b[0;34m\u001b[0m\u001b[0m\n\u001b[0m\u001b[1;32m     45\u001b[0m \u001b[0;32mimport\u001b[0m \u001b[0mwarnings\u001b[0m\u001b[0;34m\u001b[0m\u001b[0;34m\u001b[0m\u001b[0m\n\u001b[1;32m     46\u001b[0m \u001b[0;32mfrom\u001b[0m \u001b[0;34m.\u001b[0m\u001b[0mexceptions\u001b[0m \u001b[0;32mimport\u001b[0m \u001b[0mRequestsDependencyWarning\u001b[0m\u001b[0;34m\u001b[0m\u001b[0;34m\u001b[0m\u001b[0m\n",
      "\u001b[0;32m/usr/lib/python3/dist-packages/chardet/__init__.py\u001b[0m in \u001b[0;36m<module>\u001b[0;34m\u001b[0m\n\u001b[1;32m     18\u001b[0m \u001b[0;34m\u001b[0m\u001b[0m\n\u001b[1;32m     19\u001b[0m \u001b[0;32mfrom\u001b[0m \u001b[0;34m.\u001b[0m\u001b[0mcompat\u001b[0m \u001b[0;32mimport\u001b[0m \u001b[0mPY2\u001b[0m\u001b[0;34m,\u001b[0m \u001b[0mPY3\u001b[0m\u001b[0;34m\u001b[0m\u001b[0;34m\u001b[0m\u001b[0m\n\u001b[0;32m---> 20\u001b[0;31m \u001b[0;32mfrom\u001b[0m \u001b[0;34m.\u001b[0m\u001b[0muniversaldetector\u001b[0m \u001b[0;32mimport\u001b[0m \u001b[0mUniversalDetector\u001b[0m\u001b[0;34m\u001b[0m\u001b[0;34m\u001b[0m\u001b[0m\n\u001b[0m\u001b[1;32m     21\u001b[0m \u001b[0;32mfrom\u001b[0m \u001b[0;34m.\u001b[0m\u001b[0mversion\u001b[0m \u001b[0;32mimport\u001b[0m \u001b[0m__version__\u001b[0m\u001b[0;34m,\u001b[0m \u001b[0mVERSION\u001b[0m\u001b[0;34m\u001b[0m\u001b[0;34m\u001b[0m\u001b[0m\n\u001b[1;32m     22\u001b[0m \u001b[0;34m\u001b[0m\u001b[0m\n",
      "\u001b[0;32m/usr/lib/python3/dist-packages/chardet/universaldetector.py\u001b[0m in \u001b[0;36m<module>\u001b[0;34m\u001b[0m\n\u001b[1;32m     46\u001b[0m \u001b[0;32mfrom\u001b[0m \u001b[0;34m.\u001b[0m\u001b[0mlatin1prober\u001b[0m \u001b[0;32mimport\u001b[0m \u001b[0mLatin1Prober\u001b[0m\u001b[0;34m\u001b[0m\u001b[0;34m\u001b[0m\u001b[0m\n\u001b[1;32m     47\u001b[0m \u001b[0;32mfrom\u001b[0m \u001b[0;34m.\u001b[0m\u001b[0mmbcsgroupprober\u001b[0m \u001b[0;32mimport\u001b[0m \u001b[0mMBCSGroupProber\u001b[0m\u001b[0;34m\u001b[0m\u001b[0;34m\u001b[0m\u001b[0m\n\u001b[0;32m---> 48\u001b[0;31m \u001b[0;32mfrom\u001b[0m \u001b[0;34m.\u001b[0m\u001b[0msbcsgroupprober\u001b[0m \u001b[0;32mimport\u001b[0m \u001b[0mSBCSGroupProber\u001b[0m\u001b[0;34m\u001b[0m\u001b[0;34m\u001b[0m\u001b[0m\n\u001b[0m\u001b[1;32m     49\u001b[0m \u001b[0;34m\u001b[0m\u001b[0m\n\u001b[1;32m     50\u001b[0m \u001b[0;34m\u001b[0m\u001b[0m\n",
      "\u001b[0;32m/usr/lib/python3/dist-packages/chardet/sbcsgroupprober.py\u001b[0m in \u001b[0;36m<module>\u001b[0;34m\u001b[0m\n\u001b[1;32m     35\u001b[0m \u001b[0;32mfrom\u001b[0m \u001b[0;34m.\u001b[0m\u001b[0mlangbulgarianmodel\u001b[0m \u001b[0;32mimport\u001b[0m \u001b[0mLatin5BulgarianModel\u001b[0m\u001b[0;34m,\u001b[0m \u001b[0mWin1251BulgarianModel\u001b[0m\u001b[0;34m\u001b[0m\u001b[0;34m\u001b[0m\u001b[0m\n\u001b[1;32m     36\u001b[0m \u001b[0;31m# from .langhungarianmodel import Latin2HungarianModel, Win1250HungarianModel\u001b[0m\u001b[0;34m\u001b[0m\u001b[0;34m\u001b[0m\u001b[0;34m\u001b[0m\u001b[0m\n\u001b[0;32m---> 37\u001b[0;31m \u001b[0;32mfrom\u001b[0m \u001b[0;34m.\u001b[0m\u001b[0mlangthaimodel\u001b[0m \u001b[0;32mimport\u001b[0m \u001b[0mTIS620ThaiModel\u001b[0m\u001b[0;34m\u001b[0m\u001b[0;34m\u001b[0m\u001b[0m\n\u001b[0m\u001b[1;32m     38\u001b[0m \u001b[0;32mfrom\u001b[0m \u001b[0;34m.\u001b[0m\u001b[0mlanghebrewmodel\u001b[0m \u001b[0;32mimport\u001b[0m \u001b[0mWin1255HebrewModel\u001b[0m\u001b[0;34m\u001b[0m\u001b[0;34m\u001b[0m\u001b[0m\n\u001b[1;32m     39\u001b[0m \u001b[0;32mfrom\u001b[0m \u001b[0;34m.\u001b[0m\u001b[0mhebrewprober\u001b[0m \u001b[0;32mimport\u001b[0m \u001b[0mHebrewProber\u001b[0m\u001b[0;34m\u001b[0m\u001b[0;34m\u001b[0m\u001b[0m\n",
      "\u001b[0;32m/usr/lib/python3.8/importlib/_bootstrap.py\u001b[0m in \u001b[0;36m_find_and_load\u001b[0;34m(name, import_)\u001b[0m\n",
      "\u001b[0;32m/usr/lib/python3.8/importlib/_bootstrap.py\u001b[0m in \u001b[0;36m_find_and_load_unlocked\u001b[0;34m(name, import_)\u001b[0m\n",
      "\u001b[0;32m/usr/lib/python3.8/importlib/_bootstrap.py\u001b[0m in \u001b[0;36m_load_unlocked\u001b[0;34m(spec)\u001b[0m\n",
      "\u001b[0;32m/usr/lib/python3.8/importlib/_bootstrap_external.py\u001b[0m in \u001b[0;36mexec_module\u001b[0;34m(self, module)\u001b[0m\n",
      "\u001b[0;32m/usr/lib/python3.8/importlib/_bootstrap_external.py\u001b[0m in \u001b[0;36mget_code\u001b[0;34m(self, fullname)\u001b[0m\n",
      "\u001b[0;32m/usr/lib/python3.8/importlib/_bootstrap_external.py\u001b[0m in \u001b[0;36mget_data\u001b[0;34m(self, path)\u001b[0m\n",
      "\u001b[0;31mKeyboardInterrupt\u001b[0m: "
     ]
    }
   ],
   "source": [
    "from FlightRadar24.api import FlightRadar24API\n",
    "import pandas as pd\n",
    "\n",
    "# Get important data on current flights\n",
    "\n",
    "def active_airplane(airline_icao):\n",
    "    fr_api = FlightRadar24API()\n",
    "    flight_list=[]\n",
    "    flights = fr_api.get_flights(airline = airline_icao)\n",
    "    for flight in flights :\n",
    "        try :\n",
    "            dest_iata = flight.destination_airport_iata\n",
    "        except :\n",
    "            dest_iata = None\n",
    "        try :\n",
    "            org_iata = flight.origin_airport_iata\n",
    "        except :\n",
    "            org_iata = None\n",
    "        try :\n",
    "            model = flight.aircraft_code\n",
    "        except :\n",
    "            model = None \n",
    "        try :\n",
    "            registration = flight.registration\n",
    "        except :\n",
    "            registration = None\n",
    "        try :\n",
    "            speed = flight.ground_speed\n",
    "        except :\n",
    "            speed = None\n",
    "\n",
    "        f = {\n",
    "            \"id\" : flight.id,\n",
    "            \"dest_iata\" : dest_iata,\n",
    "            \"org_iata\" : org_iata,\n",
    "            \"model\" : model, \n",
    "            \"registration\" : registration,\n",
    "            \"speed\" : speed,\n",
    "            \"company\" : airline_icao\n",
    "            }\n",
    "        flight_list.append(f)\n",
    "    return flight_list\n",
    "\n",
    "#Update active airplanes\n",
    "\n",
    "def update_planes():\n",
    "    df_airlines = pd.read_parquet(\"../data/Airlines.parquet\")\n",
    "    active_flights = []\n",
    "    for airline in df_airlines[\"ICAO\"]: # since the API only gave 1500 flights on one request I choose to request flights by airlines\n",
    "        active_flights += active_airplane(airline)\n",
    "    df_flights = pd.DataFrame(active_flights)\n",
    "    df_flights = df_flights[df_flights[\"dest_iata\"] != 'N/A'] #clean data\n",
    "    df_flights = df_flights[df_flights[\"org_iata\"] != 'N/A']\n",
    "\n",
    "    df_flights.to_parquet(\"../data/Flights.parquet\")\n",
    "    return True\n",
    "\n",
    "def planes():\n",
    "    df_airlines = pd.read_parquet(\"../data/Airlines.parquet\")\n",
    "    active_flights = []\n",
    "    for airline in df_airlines[\"ICAO\"]: # since the API only gave 1500 flights on one request I choose to request flights by airlines\n",
    "        active_flights += active_airplane(airline)\n",
    "    df_flights = pd.DataFrame(active_flights)\n",
    "    df_flights = df_flights[df_flights[\"dest_iata\"] != 'N/A'] #clean data\n",
    "    df_flights = df_flights[df_flights[\"org_iata\"] != 'N/A']\n",
    "\n",
    "    return df_flights.to_parquet()"
   ]
  },
  {
   "cell_type": "code",
   "execution_count": 5,
   "metadata": {},
   "outputs": [
    {
     "name": "stdout",
     "output_type": "stream",
     "text": [
      "Send message asynchronously\n"
     ]
    }
   ],
   "source": [
    "#SENDING DATA TO KAFKA TOPIC\n",
    "import json\n",
    "from time import sleep, time, ctime\n",
    "\n",
    "\n",
    "example_producer = ExampleProducer(\"test-topic\")\n",
    "# df = pd.read_parquet(\"../data/Airports.parquet\")\n",
    "# message = df.to_parquet()\n",
    "# message = [\"testing\"+i for i in [str(k) for k in range(22)]]\n",
    "# for mes in message :\n",
    "#     example_producer.send_msg_async(mes)\n",
    "#     sleep(1)\n",
    "\n",
    "data = \"message\"\n",
    "example_producer.send_msg_async(data)"
   ]
  }
 ],
 "metadata": {
  "kernelspec": {
   "display_name": "Python 3.8.10 64-bit",
   "language": "python",
   "name": "python3"
  },
  "language_info": {
   "codemirror_mode": {
    "name": "ipython",
    "version": 3
   },
   "file_extension": ".py",
   "mimetype": "text/x-python",
   "name": "python",
   "nbconvert_exporter": "python",
   "pygments_lexer": "ipython3",
   "version": "3.8.10"
  },
  "orig_nbformat": 4,
  "vscode": {
   "interpreter": {
    "hash": "916dbcbb3f70747c44a77c7bcd40155683ae19c65e1c03b4aa3499c5328201f1"
   }
  }
 },
 "nbformat": 4,
 "nbformat_minor": 2
}
