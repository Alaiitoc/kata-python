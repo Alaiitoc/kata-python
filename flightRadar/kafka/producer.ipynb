{
 "cells": [
  {
   "cell_type": "code",
   "execution_count": 1,
   "metadata": {},
   "outputs": [],
   "source": [
    "from confluent_kafka import Producer"
   ]
  },
  {
   "cell_type": "code",
   "execution_count": 28,
   "metadata": {},
   "outputs": [],
   "source": [
    "class ExampleProducer:\n",
    "    broker = \"localhost:9092\"\n",
    "    producer = None\n",
    "\n",
    "    def __init__(self, topic):\n",
    "        self.producer = Producer({\n",
    "            'bootstrap.servers': self.broker,\n",
    "            'socket.timeout.ms': 100,\n",
    "            'api.version.request': 'false',\n",
    "            'broker.version.fallback': '0.9.0',\n",
    "        }\n",
    "        )\n",
    "        self.topic = topic\n",
    "\n",
    "    def delivery_report(self, err, msg):\n",
    "        \"\"\" Called once for each message produced to indicate delivery result.\n",
    "            Triggered by poll() or flush(). \"\"\"\n",
    "        if err is not None:\n",
    "            print('Message delivery failed: {}'.format(err))\n",
    "        else:\n",
    "            print('Message delivered to {} [{}]'.format(\n",
    "                msg.topic(), msg.partition()))\n",
    "\n",
    "    def send_msg_async(self, msg):\n",
    "        print(\"Send message asynchronously\")\n",
    "        self.producer.produce(\n",
    "            self.topic,\n",
    "            msg,\n",
    "            callback=lambda err, original_msg=msg: self.delivery_report(err, original_msg\n",
    "                                                                        ),\n",
    "        )\n",
    "        self.producer.flush()\n",
    "\n",
    "    def send_msg_sync(self, msg):\n",
    "        print(\"Send message synchronously\")\n",
    "        self.producer.produce(\n",
    "            self.topic,\n",
    "            msg,\n",
    "            callback=lambda err, original_msg=msg: self.delivery_report(\n",
    "                err, original_msg\n",
    "            ),\n",
    "        )\n",
    "        self.producer.flush()\n",
    "\n"
   ]
  },
  {
   "cell_type": "code",
   "execution_count": 7,
   "metadata": {},
   "outputs": [],
   "source": [
    "import pandas as pd\n",
    "from io import BytesIO"
   ]
  },
  {
   "cell_type": "code",
   "execution_count": 29,
   "metadata": {},
   "outputs": [
    {
     "name": "stdout",
     "output_type": "stream",
     "text": [
      "Send message asynchronously\n",
      "Message delivered to test-topic [0]\n",
      "Send message asynchronously\n",
      "Message delivered to test-topic [0]\n"
     ]
    },
    {
     "ename": "KeyboardInterrupt",
     "evalue": "",
     "output_type": "error",
     "traceback": [
      "\u001b[0;31m---------------------------------------------------------------------------\u001b[0m",
      "\u001b[0;31mKeyboardInterrupt\u001b[0m                         Traceback (most recent call last)",
      "\u001b[0;32m<ipython-input-29-5f99ae401c91>\u001b[0m in \u001b[0;36m<module>\u001b[0;34m\u001b[0m\n\u001b[1;32m     10\u001b[0m \u001b[0;32mfor\u001b[0m \u001b[0mmes\u001b[0m \u001b[0;32min\u001b[0m \u001b[0mmessage\u001b[0m \u001b[0;34m:\u001b[0m\u001b[0;34m\u001b[0m\u001b[0;34m\u001b[0m\u001b[0m\n\u001b[1;32m     11\u001b[0m     \u001b[0mexample_producer\u001b[0m\u001b[0;34m.\u001b[0m\u001b[0msend_msg_async\u001b[0m\u001b[0;34m(\u001b[0m\u001b[0mmes\u001b[0m\u001b[0;34m)\u001b[0m\u001b[0;34m\u001b[0m\u001b[0;34m\u001b[0m\u001b[0m\n\u001b[0;32m---> 12\u001b[0;31m     \u001b[0msleep\u001b[0m\u001b[0;34m(\u001b[0m\u001b[0;36m1\u001b[0m\u001b[0;34m)\u001b[0m\u001b[0;34m\u001b[0m\u001b[0;34m\u001b[0m\u001b[0m\n\u001b[0m",
      "\u001b[0;31mKeyboardInterrupt\u001b[0m: "
     ]
    }
   ],
   "source": [
    "#SENDING DATA TO KAFKA TOPIC\n",
    "import json\n",
    "from time import sleep, time\n",
    "\n",
    "\n",
    "example_producer = ExampleProducer(\"test-topic\")\n",
    "# df = pd.read_parquet(\"../data/Airports.parquet\")\n",
    "# message = df.to_parquet()\n",
    "message = [\"testing\"+i for i in [str(k) for k in range(22)]]\n",
    "for mes in message :\n",
    "    example_producer.send_msg_async(mes)\n",
    "    sleep(1)"
   ]
  }
 ],
 "metadata": {
  "kernelspec": {
   "display_name": "Python 3.8.10 64-bit",
   "language": "python",
   "name": "python3"
  },
  "language_info": {
   "codemirror_mode": {
    "name": "ipython",
    "version": 3
   },
   "file_extension": ".py",
   "mimetype": "text/x-python",
   "name": "python",
   "nbconvert_exporter": "python",
   "pygments_lexer": "ipython3",
   "version": "3.8.10"
  },
  "orig_nbformat": 4,
  "vscode": {
   "interpreter": {
    "hash": "916dbcbb3f70747c44a77c7bcd40155683ae19c65e1c03b4aa3499c5328201f1"
   }
  }
 },
 "nbformat": 4,
 "nbformat_minor": 2
}
