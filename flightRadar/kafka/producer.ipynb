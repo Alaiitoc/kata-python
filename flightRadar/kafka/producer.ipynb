{
 "cells": [
  {
   "cell_type": "code",
   "execution_count": 1,
   "metadata": {},
   "outputs": [],
   "source": [
    "from confluent_kafka import Producer"
   ]
  },
  {
   "cell_type": "code",
   "execution_count": 2,
   "metadata": {},
   "outputs": [],
   "source": [
    "class ExampleProducer:\n",
    "    broker = \"localhost:9092\"\n",
    "    producer = None\n",
    "\n",
    "    def __init__(self, topic):\n",
    "        self.producer = Producer({\n",
    "            'bootstrap.servers': self.broker,\n",
    "            'socket.timeout.ms': 100,\n",
    "            'api.version.request': 'false',\n",
    "            'broker.version.fallback': '0.9.0',\n",
    "        }\n",
    "        )\n",
    "        self.topic = topic\n",
    "\n",
    "    def delivery_report(self, err, msg):\n",
    "        \"\"\" Called once for each message produced to indicate delivery result.\n",
    "            Triggered by poll() or flush(). \"\"\"\n",
    "        if err is not None:\n",
    "            print('Message delivery failed: {}'.format(err))\n",
    "        else:\n",
    "            print('Message delivered to {} [{}]'.format(\n",
    "                msg.topic(), msg.partition()))\n",
    "\n",
    "    def send_msg_async(self, msg):\n",
    "        print(\"Send message asynchronously\")\n",
    "        self.producer.produce(\n",
    "            self.topic,\n",
    "            msg,\n",
    "            callback=lambda err, original_msg=msg: self.delivery_report(err, original_msg\n",
    "                                                                        ),\n",
    "        )\n",
    "        self.producer.flush()\n",
    "\n",
    "    def send_msg_sync(self, msg):\n",
    "        print(\"Send message synchronously\")\n",
    "        self.producer.produce(\n",
    "            self.topic,\n",
    "            msg,\n",
    "            callback=lambda err, original_msg=msg: self.delivery_report(\n",
    "                err, original_msg\n",
    "            ),\n",
    "        )\n",
    "        self.producer.flush()\n",
    "\n"
   ]
  },
  {
   "cell_type": "code",
   "execution_count": 12,
   "metadata": {},
   "outputs": [],
   "source": [
    "import pandas as pd\n",
    "from io import BytesIO"
   ]
  },
  {
   "cell_type": "code",
   "execution_count": 23,
   "metadata": {},
   "outputs": [],
   "source": [
    "from FlightRadar24.api import FlightRadar24API\n",
    "import pandas as pd\n",
    "\n",
    "# Get important data on current flights\n",
    "\n",
    "def active_airplane(airline_icao):\n",
    "    fr_api = FlightRadar24API()\n",
    "    flight_list=[]\n",
    "    flights = fr_api.get_flights(airline = airline_icao)\n",
    "    for flight in flights :\n",
    "        try :\n",
    "            dest_iata = flight.destination_airport_iata\n",
    "        except :\n",
    "            dest_iata = None\n",
    "        try :\n",
    "            org_iata = flight.origin_airport_iata\n",
    "        except :\n",
    "            org_iata = None\n",
    "        try :\n",
    "            model = flight.aircraft_code\n",
    "        except :\n",
    "            model = None \n",
    "        try :\n",
    "            registration = flight.registration\n",
    "        except :\n",
    "            registration = None\n",
    "        try :\n",
    "            speed = flight.ground_speed\n",
    "        except :\n",
    "            speed = None\n",
    "\n",
    "        f = {\n",
    "            \"id\" : flight.id,\n",
    "            \"dest_iata\" : dest_iata,\n",
    "            \"org_iata\" : org_iata,\n",
    "            \"model\" : model, \n",
    "            \"registration\" : registration,\n",
    "            \"speed\" : speed,\n",
    "            \"company\" : airline_icao\n",
    "            }\n",
    "        flight_list.append(f)\n",
    "    return flight_list\n",
    "\n",
    "#Update active airplanes\n",
    "\n",
    "def update_planes():\n",
    "    df_airlines = pd.read_parquet(\"../data/Airlines.parquet\")\n",
    "    active_flights = []\n",
    "    for airline in df_airlines[\"ICAO\"]: # since the API only gave 1500 flights on one request I choose to request flights by airlines\n",
    "        active_flights += active_airplane(airline)\n",
    "    df_flights = pd.DataFrame(active_flights)\n",
    "    df_flights = df_flights[df_flights[\"dest_iata\"] != 'N/A'] #clean data\n",
    "    df_flights = df_flights[df_flights[\"org_iata\"] != 'N/A']\n",
    "\n",
    "    df_flights.to_parquet(\"../data/Flights.parquet\")\n",
    "    return True\n",
    "\n",
    "def planes():\n",
    "    df_airlines = pd.read_parquet(\"../data/Airlines.parquet\")\n",
    "    active_flights = []\n",
    "    for airline in df_airlines[\"ICAO\"]: # since the API only gave 1500 flights on one request I choose to request flights by airlines\n",
    "        active_flights += active_airplane(airline)\n",
    "    df_flights = pd.DataFrame(active_flights)\n",
    "    df_flights = df_flights[df_flights[\"dest_iata\"] != 'N/A'] #clean data\n",
    "    df_flights = df_flights[df_flights[\"org_iata\"] != 'N/A']\n",
    "\n",
    "    return df_flights.to_parquet()"
   ]
  },
  {
   "cell_type": "code",
   "execution_count": 24,
   "metadata": {},
   "outputs": [
    {
     "name": "stdout",
     "output_type": "stream",
     "text": [
      "Send message asynchronously\n",
      "Message delivered to test-topic [0]\n"
     ]
    }
   ],
   "source": [
    "#SENDING DATA TO KAFKA TOPIC\n",
    "import json\n",
    "from time import sleep, time, ctime\n",
    "\n",
    "\n",
    "example_producer = ExampleProducer(\"test-topic\")\n",
    "# df = pd.read_parquet(\"../data/Airports.parquet\")\n",
    "# message = df.to_parquet()\n",
    "# message = [\"testing\"+i for i in [str(k) for k in range(22)]]\n",
    "# for mes in message :\n",
    "#     example_producer.send_msg_async(mes)\n",
    "#     sleep(1)\n",
    "\n",
    "data = planes()\n",
    "example_producer.send_msg_async(data)"
   ]
  }
 ],
 "metadata": {
  "kernelspec": {
   "display_name": "Python 3.8.10 64-bit",
   "language": "python",
   "name": "python3"
  },
  "language_info": {
   "codemirror_mode": {
    "name": "ipython",
    "version": 3
   },
   "file_extension": ".py",
   "mimetype": "text/x-python",
   "name": "python",
   "nbconvert_exporter": "python",
   "pygments_lexer": "ipython3",
   "version": "3.8.10"
  },
  "orig_nbformat": 4,
  "vscode": {
   "interpreter": {
    "hash": "916dbcbb3f70747c44a77c7bcd40155683ae19c65e1c03b4aa3499c5328201f1"
   }
  }
 },
 "nbformat": 4,
 "nbformat_minor": 2
}
