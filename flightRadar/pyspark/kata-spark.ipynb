{
 "cells": [
  {
   "cell_type": "markdown",
   "metadata": {},
   "source": [
    "# Imports"
   ]
  },
  {
   "cell_type": "code",
   "execution_count": 52,
   "metadata": {},
   "outputs": [],
   "source": [
    "import findspark\n",
    "findspark.init()"
   ]
  },
  {
   "cell_type": "code",
   "execution_count": 53,
   "metadata": {},
   "outputs": [],
   "source": [
    "import pyspark\n",
    "from pyspark.sql import SparkSession, Row"
   ]
  },
  {
   "cell_type": "code",
   "execution_count": 54,
   "metadata": {},
   "outputs": [],
   "source": [
    "from pyspark.sql.functions import udf,col, desc, rank\n",
    "import pyspark.sql.functions as F\n",
    "from pyspark.sql.types import StringType\n",
    "from pyspark.sql.window import Window"
   ]
  },
  {
   "cell_type": "code",
   "execution_count": 55,
   "metadata": {},
   "outputs": [],
   "source": [
    "from FlightRadar24.api import FlightRadar24API\n"
   ]
  },
  {
   "cell_type": "code",
   "execution_count": 56,
   "metadata": {},
   "outputs": [],
   "source": [
    "import pandas as pd"
   ]
  },
  {
   "cell_type": "code",
   "execution_count": 57,
   "metadata": {},
   "outputs": [],
   "source": [
    "from geopy import distance"
   ]
  },
  {
   "cell_type": "code",
   "execution_count": 58,
   "metadata": {},
   "outputs": [],
   "source": [
    "spark = SparkSession.builder.getOrCreate()"
   ]
  },
  {
   "cell_type": "markdown",
   "metadata": {},
   "source": [
    "# DataFrames"
   ]
  },
  {
   "cell_type": "code",
   "execution_count": 59,
   "metadata": {},
   "outputs": [],
   "source": [
    "df_airports = spark.read.parquet(\"../data/Airports.parquet\")"
   ]
  },
  {
   "cell_type": "code",
   "execution_count": 60,
   "metadata": {},
   "outputs": [
    {
     "name": "stdout",
     "output_type": "stream",
     "text": [
      "+--------------------+-------+---------+----+---------+---------+\n",
      "|                name|country|Continent|iata|      lat|      lon|\n",
      "+--------------------+-------+---------+----+---------+---------+\n",
      "|\\tMasai Mara Keek...|  Kenya|   africa| KEU|-1.586377|35.257462|\n",
      "|    A Coruna Airport|  Spain|   europe| LCG|43.302059| -8.37725|\n",
      "|Aachen Merzbruck ...|Germany|   europe| AAH|50.823051| 6.186111|\n",
      "|     Aalborg Airport|Denmark|   europe| AAL|57.092781| 9.849164|\n",
      "|      Aarhus Airport|Denmark|   europe| AAR|56.300011|   10.619|\n",
      "+--------------------+-------+---------+----+---------+---------+\n",
      "only showing top 5 rows\n",
      "\n"
     ]
    }
   ],
   "source": [
    "df_airports.show(5)"
   ]
  },
  {
   "cell_type": "code",
   "execution_count": 61,
   "metadata": {},
   "outputs": [
    {
     "name": "stdout",
     "output_type": "stream",
     "text": [
      "+----+-------------+\n",
      "|ICAO|      Country|\n",
      "+----+-------------+\n",
      "| BOI|  Philippines|\n",
      "| EVY|             |\n",
      "| GNL|United States|\n",
      "|    |       Global|\n",
      "|    |         APAC|\n",
      "+----+-------------+\n",
      "only showing top 5 rows\n",
      "\n"
     ]
    }
   ],
   "source": [
    "df_airline_countries = spark.read.parquet(\"../data/AirlineCountries.parquet\")\n",
    "df_airline_countries.show(5)"
   ]
  },
  {
   "cell_type": "code",
   "execution_count": 62,
   "metadata": {},
   "outputs": [
    {
     "name": "stdout",
     "output_type": "stream",
     "text": [
      "+--------+---------+--------+-----+------------+-----+-------+-----------------+\n",
      "|      id|dest_iata|org_iata|model|registration|speed|company|__index_level_0__|\n",
      "+--------+---------+--------+-----+------------+-----+-------+-----------------+\n",
      "|2e3aca80|      CVG|     QRO| B762|      N999YV|  509|    CSB|                0|\n",
      "|2e3ae4bc|      BOH|     PFO| B737|      G-NEWG|  412|    BRO|                1|\n",
      "|2e3ad269|      HAK|     KWE| B738|      B-1552|  392|    JYH|                2|\n",
      "|2e3a2d8c|      CVG|     CGN| B763|      N226CY|  436|    ABX|                3|\n",
      "|2e3a8e65|      LAX|     CVG| B763|      N362CM|  442|    ABX|                4|\n",
      "+--------+---------+--------+-----+------------+-----+-------+-----------------+\n",
      "only showing top 5 rows\n",
      "\n"
     ]
    }
   ],
   "source": [
    "spark.read.parquet(\"../data/Flights.parquet\").show(5)"
   ]
  },
  {
   "cell_type": "markdown",
   "metadata": {},
   "source": [
    "# Q1"
   ]
  },
  {
   "cell_type": "code",
   "execution_count": 63,
   "metadata": {},
   "outputs": [],
   "source": [
    "def most_active_airline():\n",
    "    df_airlines = spark.read.parquet(\"../data/Airlines.parquet\")\n",
    "    df_flights = spark.read.parquet(\"../data/Flights.parquet\").select(\"company\")\n",
    "\n",
    "    count = df_flights.groupBy('company').count().orderBy(\"count\",ascending=False)\n",
    "    return(df_airlines.filter(df_airlines.ICAO == count.head()[\"company\"]).head()[\"Name\"] , count.head()[\"count\"])"
   ]
  },
  {
   "cell_type": "code",
   "execution_count": 64,
   "metadata": {},
   "outputs": [
    {
     "data": {
      "text/plain": [
       "('American Airlines', 638)"
      ]
     },
     "execution_count": 64,
     "metadata": {},
     "output_type": "execute_result"
    }
   ],
   "source": [
    "most_active_airline()"
   ]
  },
  {
   "cell_type": "markdown",
   "metadata": {},
   "source": [
    "# Q2"
   ]
  },
  {
   "cell_type": "code",
   "execution_count": 65,
   "metadata": {},
   "outputs": [],
   "source": [
    "def active_by_continent():\n",
    "    df= spark.read.parquet(\"../data/Flights.parquet\").select(\"dest_iata\",\"org_iata\",\"company\")\n",
    "\n",
    "    df1 = df.join(df_airports.select(\"iata\",\"Continent\"), df.org_iata == df_airports.iata , \"inner\")\\\n",
    "        .select(\"dest_iata\",\"company\",\"Continent\")\n",
    "        \n",
    "    df1 = df1.withColumnRenamed(\"Continent\",\"org_continent\")\\\n",
    "        .join(df_airports.select(\"iata\",\"Continent\"), df.dest_iata == df_airports.iata , \"inner\")\\\n",
    "        .select(\"company\",\"org_Continent\",\"Continent\")\n",
    "\n",
    "    return(df1.filter(df1.org_Continent == df1.Continent).select(\"company\",\"Continent\"))"
   ]
  },
  {
   "cell_type": "markdown",
   "metadata": {},
   "source": [
    "In the app :\n"
   ]
  },
  {
   "cell_type": "code",
   "execution_count": 66,
   "metadata": {},
   "outputs": [],
   "source": [
    "df1 = active_by_continent()"
   ]
  },
  {
   "cell_type": "code",
   "execution_count": 67,
   "metadata": {},
   "outputs": [],
   "source": [
    "df2 = df1.groupBy(\"Continent\",\"company\").count()"
   ]
  },
  {
   "cell_type": "code",
   "execution_count": 68,
   "metadata": {},
   "outputs": [],
   "source": [
    "fr_api = FlightRadar24API()\n",
    "continents = fr_api.get_zones().keys()"
   ]
  },
  {
   "cell_type": "code",
   "execution_count": 69,
   "metadata": {},
   "outputs": [
    {
     "name": "stdout",
     "output_type": "stream",
     "text": [
      "Row(Continent='europe', company='RYR', count=166)\n",
      "Row(Continent='northamerica', company='AAL', count=597)\n",
      "Row(Continent='southamerica', company='LAN', count=107)\n",
      "Row(Continent='oceania', company='AXM', count=55)\n",
      "Row(Continent='asia', company='IGO', count=128)\n",
      "Row(Continent='africa', company='ETH', count=30)\n",
      "None\n",
      "None\n",
      "None\n"
     ]
    }
   ],
   "source": [
    "for continent in continents :\n",
    "    count = df1.filter(df1.Continent == continent)\\\n",
    "        .groupBy(\"Continent\",\"company\")\\\n",
    "        .count().orderBy(\"count\",ascending=False)\n",
    "    print(count.head())\n"
   ]
  },
  {
   "cell_type": "markdown",
   "metadata": {},
   "source": [
    "# Q3"
   ]
  },
  {
   "cell_type": "code",
   "execution_count": 70,
   "metadata": {},
   "outputs": [
    {
     "name": "stdout",
     "output_type": "stream",
     "text": [
      "+--------------------+-------+---------+----+---------+---------+\n",
      "|                name|country|Continent|iata|      lat|      lon|\n",
      "+--------------------+-------+---------+----+---------+---------+\n",
      "|\\tMasai Mara Keek...|  Kenya|   africa| KEU|-1.586377|35.257462|\n",
      "|    A Coruna Airport|  Spain|   europe| LCG|43.302059| -8.37725|\n",
      "|Aachen Merzbruck ...|Germany|   europe| AAH|50.823051| 6.186111|\n",
      "|     Aalborg Airport|Denmark|   europe| AAL|57.092781| 9.849164|\n",
      "|      Aarhus Airport|Denmark|   europe| AAR|56.300011|   10.619|\n",
      "+--------------------+-------+---------+----+---------+---------+\n",
      "only showing top 5 rows\n",
      "\n"
     ]
    }
   ],
   "source": [
    "df_airports.show(5)"
   ]
  },
  {
   "cell_type": "code",
   "execution_count": 71,
   "metadata": {},
   "outputs": [
    {
     "name": "stdout",
     "output_type": "stream",
     "text": [
      "+---------+----------+--------+---------+----------+--------------------+--------------------+\n",
      "| dest_lat|  dest_lon|      id|  org_lat|   org_lon|            org_name|           dest_name|\n",
      "+---------+----------+--------+---------+----------+--------------------+--------------------+\n",
      "|55.616959| 12.645637|2e3aea91|57.092781|  9.849164|     Aalborg Airport|  Copenhagen Airport|\n",
      "|51.471626| -0.467081|2e3ae9fa|57.201939|  -2.19777|Aberdeen Internat...|London Heathrow A...|\n",
      "| 44.88195|-93.221703|2e3ac6d9|45.439999|-98.419998|Aberdeen Regional...|Minneapolis Saint...|\n",
      "| 21.67956| 39.156528|2e3aeffe| 18.24036|  42.65662|Abha Regional Air...|Jeddah King Abdul...|\n",
      "| 24.95764| 46.698769|2e3ae3ce| 18.24036|  42.65662|Abha Regional Air...|Riyadh King Khali...|\n",
      "+---------+----------+--------+---------+----------+--------------------+--------------------+\n",
      "only showing top 5 rows\n",
      "\n"
     ]
    }
   ],
   "source": [
    "df3 = spark.read.parquet(\"../data/Flights.parquet\", columns = [\"id\",\"dest_iata\",\"org_iata\"])\n",
    "airport_pos = spark.read.parquet(\"../data/Airports.parquet\").select(\"iata\",\"lat\",\"lon\",\"name\")\n",
    "\n",
    "# Origin Data\n",
    "df3 = df3.join(airport_pos, df3.org_iata == airport_pos.iata , \"inner\").\\\n",
    "    select(\"lat\",\"lon\",\"id\",\"dest_iata\",\"name\")\\\n",
    "    .withColumnRenamed(\"lat\",\"org_lat\")\\\n",
    "    .withColumnRenamed(\"lon\",\"org_lon\")\\\n",
    "    .withColumnRenamed(\"name\",\"org_name\")\n",
    "\n",
    "# Destination Data\n",
    "df3 = df3.join(airport_pos, df3.dest_iata == airport_pos.iata , \"inner\").\\\n",
    "    select(\"lat\",\"lon\",\"id\",\"org_lat\",\"org_lon\",\"org_name\",\"name\")\\\n",
    "    .withColumnRenamed(\"lat\",\"dest_lat\")\\\n",
    "    .withColumnRenamed(\"lon\",\"dest_lon\")\\\n",
    "    .withColumnRenamed(\"name\",\"dest_name\")\n",
    "df3.show(5)"
   ]
  },
  {
   "cell_type": "code",
   "execution_count": 72,
   "metadata": {},
   "outputs": [],
   "source": [
    "def rowwise_function(row):\n",
    "    # convert row to python dictionary:\n",
    "    row_dict = row.asDict()\n",
    "    # Add a new key in the dictionary with the new column name and value.\n",
    "    # This might be a big complex function.\n",
    "    row_dict['dist'] =  distance.distance((row_dict[\"org_lat\"],row_dict[\"org_lon\"]),(row_dict[\"dest_lat\"],row_dict[\"dest_lon\"])).km\n",
    "    # convert dict to row back again:\n",
    "    newrow = Row(**row_dict)\n",
    "    # return new row\n",
    "    return newrow"
   ]
  },
  {
   "cell_type": "code",
   "execution_count": 73,
   "metadata": {},
   "outputs": [
    {
     "name": "stdout",
     "output_type": "stream",
     "text": [
      "+---------+----------+--------+---------+----------+--------------------+--------------------+------------------+\n",
      "| dest_lat|  dest_lon|      id|  org_lat|   org_lon|            org_name|           dest_name|              dist|\n",
      "+---------+----------+--------+---------+----------+--------------------+--------------------+------------------+\n",
      "|55.616959| 12.645637|2e3aea91|57.092781|  9.849164|     Aalborg Airport|  Copenhagen Airport|238.48286606060464|\n",
      "|51.471626| -0.467081|2e3ae9fa|57.201939|  -2.19777|Aberdeen Internat...|London Heathrow A...| 647.6482629706971|\n",
      "| 44.88195|-93.221703|2e3ac6d9|45.439999|-98.419998|Aberdeen Regional...|Minneapolis Saint...|413.32219375228965|\n",
      "| 21.67956| 39.156528|2e3aeffe| 18.24036|  42.65662|Abha Regional Air...|Jeddah King Abdul...|   528.31964824529|\n",
      "| 24.95764| 46.698769|2e3ae3ce| 18.24036|  42.65662|Abha Regional Air...|Riyadh King Khali...| 853.2848249708582|\n",
      "+---------+----------+--------+---------+----------+--------------------+--------------------+------------------+\n",
      "only showing top 5 rows\n",
      "\n"
     ]
    }
   ],
   "source": [
    "df3_rdd = df3.rdd# apply our function to RDD\n",
    "df3_rdd_new = df3_rdd.map(lambda row: rowwise_function(row))\n",
    "df3NewDf = spark.createDataFrame(df3_rdd_new)# Convert RDD Back to DataFrame\n",
    "df3NewDf.show(5)"
   ]
  },
  {
   "cell_type": "code",
   "execution_count": 74,
   "metadata": {},
   "outputs": [
    {
     "data": {
      "text/plain": [
       "Row(org_name='New York John F. Kennedy International Airport', dest_name='Singapore Changi Airport', dist=15348.64044117391)"
      ]
     },
     "execution_count": 74,
     "metadata": {},
     "output_type": "execute_result"
    }
   ],
   "source": [
    "df3NewDf.select(\"org_name\",\"dest_name\",\"dist\").orderBy(\"dist\", ascending=False).first()"
   ]
  },
  {
   "cell_type": "markdown",
   "metadata": {},
   "source": [
    "# Q4"
   ]
  },
  {
   "cell_type": "code",
   "execution_count": 75,
   "metadata": {},
   "outputs": [
    {
     "name": "stdout",
     "output_type": "stream",
     "text": [
      "+---------+----------+---------+----------+-------------+--------------+\n",
      "| dest_lat|  dest_lon|  org_lat|   org_lon|org_Continent|dest_Continent|\n",
      "+---------+----------+---------+----------+-------------+--------------+\n",
      "|55.616959| 12.645637|57.092781|  9.849164|       europe|        europe|\n",
      "|51.471626| -0.467081|57.201939|  -2.19777|       europe|        europe|\n",
      "| 44.88195|-93.221703|45.439999|-98.419998| northamerica|  northamerica|\n",
      "| 21.67956| 39.156528| 18.24036|  42.65662|         asia|        africa|\n",
      "| 24.95764| 46.698769| 18.24036|  42.65662|         asia|          asia|\n",
      "+---------+----------+---------+----------+-------------+--------------+\n",
      "only showing top 5 rows\n",
      "\n"
     ]
    }
   ],
   "source": [
    "df4 = spark.read.parquet(\"../data/Flights.parquet\").select([\"org_iata\",\"dest_iata\"])\n",
    "airport_pos_4 = spark.read.parquet(\"../data/Airports.parquet\").select(\"iata\",\"lat\",\"lon\",\"name\",\"Continent\")\n",
    "\n",
    "# Origin Data\n",
    "df4 = df4.join(airport_pos_4, df4.org_iata == airport_pos_4.iata , \"inner\").\\\n",
    "    select(\"lat\",\"lon\",\"dest_iata\",\"Continent\")\\\n",
    "    .withColumnRenamed(\"lat\",\"org_lat\")\\\n",
    "    .withColumnRenamed(\"lon\",\"org_lon\")\\\n",
    "    .withColumnRenamed(\"Continent\",\"org_Continent\")\n",
    "\n",
    "# Destination Data\n",
    "df4 = df4.join(airport_pos_4, df4.dest_iata == airport_pos_4.iata , \"inner\").\\\n",
    "    select(\"lat\",\"lon\",\"org_lat\",\"org_lon\",\"org_Continent\",\"Continent\")\\\n",
    "    .withColumnRenamed(\"lat\",\"dest_lat\")\\\n",
    "    .withColumnRenamed(\"lon\",\"dest_lon\")\\\n",
    "    .withColumnRenamed(\"Continent\",\"dest_Continent\")\n",
    "\n",
    "df4.show(5)"
   ]
  },
  {
   "cell_type": "code",
   "execution_count": 76,
   "metadata": {},
   "outputs": [
    {
     "name": "stdout",
     "output_type": "stream",
     "text": [
      "+------------+--------------------------+\n",
      "|   continent|average distance by flight|\n",
      "+------------+--------------------------+\n",
      "|     oceania|        1896.1725617106347|\n",
      "|        asia|        1662.4231921254027|\n",
      "|      africa|        1559.0177451418008|\n",
      "|northamerica|        1524.5624281217354|\n",
      "|      europe|        1263.5200825082873|\n",
      "|southamerica|        1169.1745671471888|\n",
      "+------------+--------------------------+\n",
      "\n"
     ]
    }
   ],
   "source": [
    "df4_rdd = df4.filter(df4.dest_Continent == df4.org_Continent).drop(\"dest_Continent\").rdd\n",
    "df4_rdd_new = df4_rdd.map(lambda row : rowwise_function(row))\n",
    "df4NewDF = spark.createDataFrame(df4_rdd_new).withColumnRenamed(\"org_Continent\",\"Continent\").select(\"Continent\",\"dist\")\n",
    "df4NewDF.groupBy(\"continent\").agg({\"dist\":\"mean\"}).\\\n",
    "    withColumnRenamed(\"avg(dist)\",\"average distance by flight\").\\\n",
    "    sort(desc(\"average distance by flight\")).\\\n",
    "    show()"
   ]
  },
  {
   "cell_type": "markdown",
   "metadata": {},
   "source": [
    "# Q5.1"
   ]
  },
  {
   "cell_type": "code",
   "execution_count": 77,
   "metadata": {},
   "outputs": [
    {
     "name": "stdout",
     "output_type": "stream",
     "text": [
      "1807\n",
      "+----------------+----+\n",
      "|            Name|ICAO|\n",
      "+----------------+----+\n",
      "|          21 Air| CSB|\n",
      "| 25only Aviation| ONY|\n",
      "| 2Excel Aviation| BRO|\n",
      "|     40-Mile Air| MLA|\n",
      "|748 Air Services| IHO|\n",
      "+----------------+----+\n",
      "only showing top 5 rows\n",
      "\n"
     ]
    }
   ],
   "source": [
    "df_airlines = spark.read.parquet(\"../data/Airlines.parquet\")\n",
    "print(df_airlines.count())\n",
    "df_airlines.show(5)"
   ]
  },
  {
   "cell_type": "code",
   "execution_count": 78,
   "metadata": {},
   "outputs": [
    {
     "name": "stdout",
     "output_type": "stream",
     "text": [
      "+------------------+--------------------+\n",
      "|              Name|number active planes|\n",
      "+------------------+--------------------+\n",
      "| American Airlines|                 638|\n",
      "|   Delta Air Lines|                 538|\n",
      "|   United Airlines|                 488|\n",
      "|Southwest Airlines|                 384|\n",
      "|             FedEx|                 240|\n",
      "+------------------+--------------------+\n",
      "only showing top 5 rows\n",
      "\n"
     ]
    }
   ],
   "source": [
    "df51 = spark.read.parquet(\"../data/Flights.parquet\", columns=['company'])\n",
    "df51 = df51.join(df_airlines, df_airlines.ICAO == df51.company, \"inner\").\\\n",
    "    select(\"Name\",\"company\")\n",
    "df51 = df51.groupBy(\"Name\").agg({\"Name\": \"count\"}).withColumnRenamed(\"count(Name)\",\"number active planes\").sort(desc(\"number active planes\"))\n",
    "df51.show(5)"
   ]
  },
  {
   "cell_type": "markdown",
   "metadata": {},
   "source": [
    "# Q5.2"
   ]
  },
  {
   "cell_type": "code",
   "execution_count": 79,
   "metadata": {},
   "outputs": [
    {
     "name": "stdout",
     "output_type": "stream",
     "text": [
      "+------------+-----+------------+\n",
      "|   Continent|model|count(model)|\n",
      "+------------+-----+------------+\n",
      "|      europe| A359|          50|\n",
      "|      europe| A343|          10|\n",
      "|      europe| LJ55|           1|\n",
      "|southamerica| A321|          28|\n",
      "|     oceania| AT76|           2|\n",
      "+------------+-----+------------+\n",
      "only showing top 5 rows\n",
      "\n"
     ]
    }
   ],
   "source": [
    "df52 = spark.read.parquet(\"../data/Flights.parquet\").select(\"org_iata\",\"model\")\n",
    "df52 = df52.join(df_airports.select(\"iata\",\"Continent\"), df_airports.iata == df52.org_iata, \"inner\")\\\n",
    "    .drop(\"org_iata\",\"iata\")\\\n",
    "    .groupBy(\"Continent\",\"model\")\\\n",
    "    .agg({\"model\":\"count\"})\\\n",
    "\n",
    "df52.show(5)"
   ]
  },
  {
   "cell_type": "code",
   "execution_count": 80,
   "metadata": {},
   "outputs": [
    {
     "name": "stdout",
     "output_type": "stream",
     "text": [
      "+-------------+------------+\n",
      "|Continent    |Models      |\n",
      "+-------------+------------+\n",
      "|africa       |[B738 : 104]|\n",
      "|asia         |[A20N : 209]|\n",
      "|europe       |[B738 : 381]|\n",
      "|northamerica |[B738 : 428]|\n",
      "|northatlantic|[A20N : 3]  |\n",
      "|oceania      |[A320 : 115]|\n",
      "|southamerica |[A320 : 67] |\n",
      "+-------------+------------+\n",
      "\n"
     ]
    }
   ],
   "source": [
    "window52 = Window.partitionBy([\"Continent\"]).orderBy(col(\"count(model)\").desc(),col(\"model\").desc())\n",
    "df52 = df52.na.drop(\"any\")\n",
    "df52 = df52.withColumn(\"rank\", F.dense_rank().over(window52)).filter(col(\"rank\") == 1)\n",
    "df52.groupBy(\"Continent\").agg(F.collect_list(F.concat_ws(\" : \", \"model\", \"count(model)\")).alias(\"Models\")).show(truncate=False)"
   ]
  },
  {
   "cell_type": "markdown",
   "metadata": {},
   "source": [
    "# Q6"
   ]
  },
  {
   "cell_type": "code",
   "execution_count": 81,
   "metadata": {},
   "outputs": [
    {
     "name": "stdout",
     "output_type": "stream",
     "text": [
      "+-------------+------------------------------+\n",
      "|Country      |Models                        |\n",
      "+-------------+------------------------------+\n",
      "|Yemen        |[A320 : 1]                    |\n",
      "|Vietnam      |[A321 : 30]                   |\n",
      "|Venezuela    |[MD83 : 1, B733 : 1, A346 : 1]|\n",
      "|Uzbekistan   |[A320 : 5]                    |\n",
      "|United States|[B738 : 369]                  |\n",
      "+-------------+------------------------------+\n",
      "only showing top 5 rows\n",
      "\n"
     ]
    }
   ],
   "source": [
    "df6 = spark.read.parquet(\"../data/Flights.parquet\").select(\"company\",\"model\")\n",
    "df6 = df6.join(df_airline_countries, df_airline_countries.ICAO == df6.company, \"inner\").drop(\"ICAO\",\"company\")\\\n",
    "    .groupBy(\"Country\",\"model\").agg({\"model\": \"count\"})\n",
    "\n",
    "window6 = Window.partitionBy([\"Country\"]).orderBy(F.col(\"count(model)\").desc())\n",
    "\n",
    "df6.withColumn(\"rank\", F.dense_rank().over(window6)).filter(col(\"rank\") == 1)\\\n",
    "    .groupBy(\"Country\").agg(F.collect_list(F.concat_ws(\" : \", \"model\", \"count(model)\")).alias(\"Models\"))\\\n",
    "    .orderBy(F.col(\"Country\").desc())\\\n",
    "    .show(n=5, truncate=False)"
   ]
  },
  {
   "cell_type": "markdown",
   "metadata": {},
   "source": [
    "# Q7.1"
   ]
  },
  {
   "cell_type": "code",
   "execution_count": 82,
   "metadata": {},
   "outputs": [
    {
     "name": "stdout",
     "output_type": "stream",
     "text": [
      "+-------------+-----------------------------------------+-----------+\n",
      "|Continent    |name                                     |count(name)|\n",
      "+-------------+-----------------------------------------+-----------+\n",
      "|northamerica |Dallas Fort Worth International Airport  |178        |\n",
      "|asia         |Dubai International Airport              |137        |\n",
      "|europe       |London Heathrow Airport                  |105        |\n",
      "|oceania      |Singapore Changi Airport                 |76         |\n",
      "|africa       |Tel Aviv Ben Gurion International Airport|41         |\n",
      "|southamerica |Sao Paulo Guarulhos International Airport|35         |\n",
      "|northatlantic|Keflavik International Airport           |13         |\n",
      "|atlantic     |Corvo Airport                            |1          |\n",
      "+-------------+-----------------------------------------+-----------+\n",
      "\n"
     ]
    }
   ],
   "source": [
    "df71 = spark.read.parquet(\"../data/Flights.parquet\").select(\"dest_iata\")\n",
    "\n",
    "window7 = Window.partitionBy(\"Continent\").orderBy(F.col(\"count(name)\").desc())\n",
    "\n",
    "df71.join(df_airports.select(\"name\",\"iata\",\"Continent\"), df_airports.iata == df71.dest_iata, \"inner\")\\\n",
    "    .drop(\"dest_iata\",\"iata\")\\\n",
    "    .dropna()\\\n",
    "    .groupBy(\"Continent\",\"name\").agg({\"name\":\"count\"})\\\n",
    "    .withColumn(\"rank\", F.dense_rank().over(window7)).filter(F.col(\"rank\") == 1)\\\n",
    "    .drop(\"rank\")\\\n",
    "    .orderBy(F.col(\"count(name)\").desc())\\\n",
    "    .show(truncate=False)\n"
   ]
  },
  {
   "cell_type": "markdown",
   "metadata": {},
   "source": [
    "# Q7.2"
   ]
  },
  {
   "cell_type": "code",
   "execution_count": 83,
   "metadata": {},
   "outputs": [],
   "source": [
    "df72 = spark.read.parquet(\"../data/Flights.parquet\").select(\"dest_iata\",\"org_iata\")\n",
    "\n",
    "df72_in = df72.join(df_airports.select(\"name\",\"iata\",\"Continent\"), df_airports.iata == df72.dest_iata, \"inner\")\\\n",
    "    .drop(\"dest_iata\",\"iata\")\\\n",
    "    .withColumnRenamed(\"Continent\",\"dest_Continent\")\\\n",
    "    .withColumnRenamed(\"name\",\"dest_name\")\\\n",
    "    .dropna()\\\n",
    "    .groupBy(\"dest_Continent\",\"dest_name\").agg({\"dest_name\":\"count\"})\n",
    "\n",
    "\n",
    "df72_out = df72.join(df_airports.select(\"name\",\"iata\",\"Continent\"), df_airports.iata == df72.org_iata, \"inner\")\\\n",
    "    .drop(\"dest_iata\",\"iata\")\\\n",
    "    .withColumnRenamed(\"Continent\",\"org_Continent\")\\\n",
    "    .withColumnRenamed(\"name\",\"org_name\")\\\n",
    "    .dropna()\\\n",
    "    .groupBy(\"org_Continent\",\"org_name\").agg({\"org_name\":\"count\"})\n"
   ]
  },
  {
   "cell_type": "code",
   "execution_count": 84,
   "metadata": {},
   "outputs": [
    {
     "name": "stdout",
     "output_type": "stream",
     "text": [
      "+------------+--------------------+---------------+----------------+\n",
      "|   continent|                Name|count(org_name)|count(dest_name)|\n",
      "+------------+--------------------+---------------+----------------+\n",
      "|northamerica|       Boise Airport|             10|               4|\n",
      "|        asia|Changsha Huanghua...|              6|               2|\n",
      "|northamerica|White Plains West...|             13|               8|\n",
      "|northamerica|Del Rio Internati...|              1|               1|\n",
      "|        asia|Dushanbe Internat...|              5|               4|\n",
      "+------------+--------------------+---------------+----------------+\n",
      "only showing top 5 rows\n",
      "\n"
     ]
    }
   ],
   "source": [
    "df72 = df72_out.join(df72_in, df72_in.dest_name == df72_out.org_name, \"inner\")\\\n",
    "    .drop(\"dest_Continent\",\"dest_name\")\\\n",
    "    .withColumnRenamed(\"org_Continent\", \"continent\")\\\n",
    "    .withColumnRenamed(\"org_name\",\"Name\")\\\n",
    "\n",
    "\n",
    "df72.show(5)"
   ]
  },
  {
   "cell_type": "code",
   "execution_count": 121,
   "metadata": {},
   "outputs": [],
   "source": [
    "def rowdiff(row):\n",
    "    row_dict = row.asDict()\n",
    "    diff = row_dict[\"count(org_name)\"] - row_dict[\"count(dest_name)\"]\n",
    "    row_dict['abs(bound)'] =  abs(diff)\n",
    "    row_dict['bound'] = diff\n",
    "    newrow = Row(**row_dict)\n",
    "    return newrow"
   ]
  },
  {
   "cell_type": "code",
   "execution_count": 123,
   "metadata": {},
   "outputs": [
    {
     "name": "stdout",
     "output_type": "stream",
     "text": [
      "+-------------+--------------------+-----+\n",
      "|    Continent|                name|bound|\n",
      "+-------------+--------------------+-----+\n",
      "|       africa|Casablanca Mohamm...|   11|\n",
      "|         asia|Seoul Incheon Int...|   81|\n",
      "|       europe|Paris Charles de ...|   31|\n",
      "|       europe|Amsterdam Schipho...|   31|\n",
      "| northamerica|Dallas Fort Worth...| -116|\n",
      "|northatlantic|Keflavik Internat...|   -5|\n",
      "|      oceania|Singapore Changi ...|  -12|\n",
      "| southamerica|Brasilia Internat...|   24|\n",
      "+-------------+--------------------+-----+\n",
      "\n"
     ]
    }
   ],
   "source": [
    "window72 = Window.partitionBy(\"Continent\").orderBy(F.col(\"abs(bound)\").desc())\n",
    "\n",
    "df72_rdd = df72.rdd\n",
    "df72_rdd_new = df72_rdd.map(lambda row : rowdiff(row))\n",
    "df72NewDF = spark.createDataFrame(df72_rdd_new).select(\"Continent\",\"name\",\"bound\",\"abs(bound)\")\\\n",
    "    .withColumn(\"rank\", F.dense_rank().over(window72)).filter(F.col(\"rank\") == 1)\\\n",
    "    .drop(\"rank\",\"abs(bound)\")\\\n",
    "    .show()"
   ]
  },
  {
   "cell_type": "markdown",
   "metadata": {},
   "source": [
    "# Q8"
   ]
  },
  {
   "cell_type": "code",
   "execution_count": 98,
   "metadata": {},
   "outputs": [
    {
     "name": "stdout",
     "output_type": "stream",
     "text": [
      "+-------------+------------------+\n",
      "|    continent|        avg(speed)|\n",
      "+-------------+------------------+\n",
      "|      oceania| 386.4922178988327|\n",
      "|         asia| 386.3145743145743|\n",
      "|northatlantic|             376.5|\n",
      "|       africa|370.23126338329763|\n",
      "|       europe| 352.9645685702376|\n",
      "| southamerica| 346.4194373401535|\n",
      "| northamerica| 292.2076986984215|\n",
      "+-------------+------------------+\n",
      "\n"
     ]
    }
   ],
   "source": [
    "df8 = spark.read.parquet(\"../data/Flights.parquet\").select(\"speed\",\"org_iata\")\n",
    "\n",
    "df8.join(df_airports.select(\"iata\",\"Continent\"),df8.org_iata == df_airports.iata, \"inner\")\\\n",
    "    .drop(\"iata\",\"org_iata\")\\\n",
    "    .dropna()\\\n",
    "    .groupBy(\"continent\")\\\n",
    "    .agg({\"speed\": \"mean\"})\\\n",
    "    .orderBy(F.col(\"avg(speed)\").desc())\\\n",
    "    .show()\n"
   ]
  }
 ],
 "metadata": {
  "kernelspec": {
   "display_name": "Python 3.8.10 64-bit",
   "language": "python",
   "name": "python3"
  },
  "language_info": {
   "codemirror_mode": {
    "name": "ipython",
    "version": 3
   },
   "file_extension": ".py",
   "mimetype": "text/x-python",
   "name": "python",
   "nbconvert_exporter": "python",
   "pygments_lexer": "ipython3",
   "version": "3.8.10"
  },
  "orig_nbformat": 4,
  "vscode": {
   "interpreter": {
    "hash": "916dbcbb3f70747c44a77c7bcd40155683ae19c65e1c03b4aa3499c5328201f1"
   }
  }
 },
 "nbformat": 4,
 "nbformat_minor": 2
}
